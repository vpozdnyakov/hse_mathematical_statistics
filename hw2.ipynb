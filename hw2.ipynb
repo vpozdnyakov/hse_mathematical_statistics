{
 "cells": [
  {
   "cell_type": "markdown",
   "metadata": {},
   "source": [
    "# Probability Theory and Mathematical Statistics"
   ]
  },
  {
   "cell_type": "markdown",
   "metadata": {},
   "source": [
    "## Homework 2, Vitaliy Pozdnyakov"
   ]
  },
  {
   "cell_type": "markdown",
   "metadata": {},
   "source": [
    "___"
   ]
  },
  {
   "cell_type": "markdown",
   "metadata": {},
   "source": [
    "### Part 1"
   ]
  },
  {
   "cell_type": "markdown",
   "metadata": {},
   "source": [
    "**1. Prove that the frequency of an event A is an efficient estimator of probability P(A)**"
   ]
  },
  {
   "cell_type": "markdown",
   "metadata": {},
   "source": [
    "Let $X_1, X_2, \\dots, X_n$ — not dependent random variables, each distributed:"
   ]
  },
  {
   "cell_type": "markdown",
   "metadata": {},
   "source": [
    "$P(A) = P(X_i=1) = p$\n",
    "\n",
    "$P(\\overline{A}) = P(X_i=0)=1-p = q$"
   ]
  },
  {
   "cell_type": "markdown",
   "metadata": {},
   "source": [
    "Let frequency $\\hat{\\theta}_p = \\frac{m}{n}$ where $m$ — the number of happened events $A$ (if $X_i=1$) and $n$ — the number of all attempts"
   ]
  },
  {
   "cell_type": "markdown",
   "metadata": {},
   "source": [
    "$M(X_i)= 1 \\cdot p + 0 \\cdot q = p$"
   ]
  },
  {
   "cell_type": "markdown",
   "metadata": {},
   "source": [
    "$M(X)=M(X_1+X_2+\\dots+X_n)=nM(X_i)=np$"
   ]
  },
  {
   "cell_type": "markdown",
   "metadata": {},
   "source": [
    "$M(\\frac{m}{n})=M(\\frac{X_1+X_2+\\cdots+X_n}{n})=\\frac{1}{n}M(X)=\\frac{np}{n}=p$"
   ]
  },
  {
   "cell_type": "markdown",
   "metadata": {},
   "source": [
    "Thereby $\\frac{m}{n}$ is an unbiased estimator"
   ]
  },
  {
   "cell_type": "markdown",
   "metadata": {},
   "source": [
    "$D(X_i)=(1-p)^2p + (0-p)^2q = q^2p + p^2q=pq(p+q)=pq$"
   ]
  },
  {
   "cell_type": "markdown",
   "metadata": {},
   "source": [
    "$D(X) = D(X_1+X_2+\\cdots+X_n) = npq$"
   ]
  },
  {
   "cell_type": "markdown",
   "metadata": {},
   "source": [
    "$D(\\frac{m}{n}) = D(\\frac{X_1+X_2+\\cdots+X_n}{n}) = \\frac{D(X)}{n^2}=\\frac{pq}{n}$"
   ]
  },
  {
   "cell_type": "markdown",
   "metadata": {},
   "source": [
    "Let $\\varphi(1, p)$ and $\\varphi(0, q)$ are PDFs of value 1 and 0 respectively, then"
   ]
  },
  {
   "cell_type": "markdown",
   "metadata": {},
   "source": [
    "$\\varphi(1, p) = p$ and $\\varphi(0, p) = 1 - p$"
   ]
  },
  {
   "cell_type": "markdown",
   "metadata": {},
   "source": [
    "Fisher information $I(p)=\n",
    "M\\left[ \\ln \\varphi(X, p)'_p \\right]^2 =\n",
    "\\left[\\frac{\\varphi'(1, p)}{\\varphi(1,p)}\\right]^2\\varphi(1,p) + \\left[\\frac{\\varphi'(0, p)}{\\varphi(0,p)}\\right]^2\\varphi(0,p) = \n",
    "\\frac{[\\varphi'(1, p)]^2}{\\varphi(1,p)} + \\frac{[\\varphi'(0, p)]^2}{\\varphi(0,p)} = \n",
    "\\frac{1}{p} +\\frac{1}{1-p} = \n",
    "\\frac{1}{p(1-p)} = \\frac{1}{pq}$"
   ]
  },
  {
   "cell_type": "markdown",
   "metadata": {},
   "source": [
    "$\\min D(\\hat{\\theta}_p)=\\frac{1}{nI(p)}=\\frac{pq}{n} = D(\\frac{m}{n})$"
   ]
  },
  {
   "cell_type": "markdown",
   "metadata": {},
   "source": [
    "Thereby $\\frac{m}{n}$ is an efficent estimator"
   ]
  },
  {
   "cell_type": "markdown",
   "metadata": {},
   "source": [
    "**2. The sample set ($X_1 \\dots X_n$) of random variable $X$ corresponds the exponential distribution with parameter $\\frac{1}{\\theta}$ ($E(\\frac{1}{\\theta})$). Prove that $\\overline{X}$ is an efficient estimator**"
   ]
  },
  {
   "cell_type": "markdown",
   "metadata": {},
   "source": [
    "Let $\\lambda = \\frac{1}{\\theta}$ and $X_i\\sim Exp(\\lambda)$"
   ]
  },
  {
   "cell_type": "markdown",
   "metadata": {},
   "source": [
    "$M(X_i)=\\lambda^{-1}$"
   ]
  },
  {
   "cell_type": "markdown",
   "metadata": {},
   "source": [
    "$M(\\overline{X})=M(\\frac{X_1+\\dots+X_n}{n})=\\frac{n\\lambda^{-1}}{n} = \\lambda^{-1}$"
   ]
  },
  {
   "cell_type": "markdown",
   "metadata": {},
   "source": [
    "Thereby $\\overline{X}$ is an unbiased estimator of parameter $\\lambda^{-1}$"
   ]
  },
  {
   "cell_type": "markdown",
   "metadata": {},
   "source": [
    "$D(X_i) = \\lambda^{-2}$"
   ]
  },
  {
   "cell_type": "markdown",
   "metadata": {},
   "source": [
    "$D(\\overline{X})=D(\\frac{X_1+\\dots+X_n}{n})=\\frac{n\\lambda^{-2}}{n^2}=\\frac{\\lambda^{-2}}{n}=\\frac{1}{n\\lambda^{2}}$"
   ]
  },
  {
   "cell_type": "markdown",
   "metadata": {},
   "source": [
    "Let $\\varphi(x, \\lambda) = \\lambda e^{-\\lambda x}$"
   ]
  },
  {
   "cell_type": "markdown",
   "metadata": {},
   "source": [
    "Fisher information $I(\\lambda)=\n",
    "M[\\ln\\varphi(x, \\lambda)'_\\lambda]^2 = \n",
    "M[(\\ln\\lambda - \\lambda x)'_\\lambda]^2 =\n",
    "M[\\frac{1}{\\lambda}-x]^2 = \n",
    "M[\\frac{1}{\\lambda^2}-\\frac{2x}{\\lambda} + x^2]$"
   ]
  },
  {
   "cell_type": "markdown",
   "metadata": {},
   "source": [
    "$= \\frac{1}{\\lambda^2}-\\frac{2}{\\lambda}M[X]+M[X^2] = \\frac{1}{\\lambda^2}-\\frac{2}{\\lambda^2}+\\frac{2!}{\\lambda^2} = \\lambda^{-2}$\n",
    "and then \n",
    "\n",
    "$I(\\lambda^{-1})=\\lambda^2$"
   ]
  },
  {
   "cell_type": "markdown",
   "metadata": {},
   "source": [
    "$\\min D = \\frac{1}{nI(\\lambda^{-1})}=\\frac{1}{n\\lambda^{2}}=D(\\overline{X})$"
   ]
  },
  {
   "cell_type": "markdown",
   "metadata": {},
   "source": [
    "Thereby $\\overline{X}$ is an efficent estimator of parameter $\\lambda^{-1} = \\theta$"
   ]
  },
  {
   "cell_type": "markdown",
   "metadata": {},
   "source": [
    "**3. The random variable $X$ can be $0$ or $1$ with probability $0.5$**\n",
    "\n",
    "* **a. What is mean $\\mu$ and variance $\\sigma^2$ for $X$?**"
   ]
  },
  {
   "cell_type": "markdown",
   "metadata": {},
   "source": [
    "$\\mu = M(X) = 0 \\cdot 0.5 + 1 \\cdot 0.5 = 0.5$"
   ]
  },
  {
   "cell_type": "markdown",
   "metadata": {},
   "source": [
    "$\\sigma^2 = D(X) = (0-0.5)^20.5 + (1 - 0.5)^20.5 = 0.25 \\cdot 0.5 + 0.25\\cdot0.5 = 0.25 = \\frac{\\mu}{2}$"
   ]
  },
  {
   "cell_type": "markdown",
   "metadata": {},
   "source": [
    "**b. The set of $X: X_1… X_9$. Let’s take a look at five different estimators of mean $\\mu$:**\n",
    "* $\\hat{\\mu_1}=0.45$\n",
    "* $\\hat{\\mu_2}=X_1$\n",
    "* $\\hat{\\mu_3}=\\overline{X}$\n",
    "* $\\hat{\\mu_4}=X_1+\\frac{1}{3}X_2$\n",
    "* $\\hat{\\mu_5}=\\frac{2}{3}X_1 + \\frac{2}{3}X_2-\\frac{1}{3}X_3$\n",
    "\n",
    "**Which of estimators are unbiased? What is the bias for each estimator? Which one is the most efficient?**"
   ]
  },
  {
   "cell_type": "markdown",
   "metadata": {},
   "source": [
    "$M(\\hat{\\mu_1})=M(0.45)=0.45\\neq \\mu \\Rightarrow$ it is biased estimator, $Bias = 0.5 - 0.45 = 0.05$"
   ]
  },
  {
   "cell_type": "markdown",
   "metadata": {},
   "source": [
    "$M(\\hat{\\mu_2})=M(X_1)=\\mu \\Rightarrow$ it is unbiased estimator, $Bias = 0$"
   ]
  },
  {
   "cell_type": "markdown",
   "metadata": {},
   "source": [
    "$M(\\hat{\\mu_3})=M(\\overline{X})=\\frac{1}{9}M(X_1+\\dots+X_9) = \\frac{0.5 \\cdot 9}{9}=0.5=\\mu \\Rightarrow$ it is unbiased estimator, $Bias = 0$"
   ]
  },
  {
   "cell_type": "markdown",
   "metadata": {},
   "source": [
    "$M(\\hat{\\mu_4})=M(X_1+\\frac{1}{3}X_2)=M(X_1)+\\frac{1}{3}M(X_2)=\\frac{15}{30} + \\frac{5}{30} = \\frac{20}{30} \\neq \\mu \\Rightarrow$ it is biased estimator, $Bias = \\frac{20}{30}-\\frac{15}{30}=\\frac{5}{30}$"
   ]
  },
  {
   "cell_type": "markdown",
   "metadata": {},
   "source": [
    "$M(\\hat{\\mu_5}=\\frac{2}{3}M(X_1) + \\frac{2}{3}M(X_2)-\\frac{1}{3}M(X_3)=\\frac{2}{3}\\mu + \\frac{2}{3}\\mu-\\frac{1}{3}\\mu=\\mu \\Rightarrow$ it is unbiased estimator, $Bias = 0$"
   ]
  },
  {
   "cell_type": "markdown",
   "metadata": {},
   "source": [
    "Let $\\varphi(0, \\mu) = \\mu$ and $\\varphi(1, \\mu) = \\mu$"
   ]
  },
  {
   "cell_type": "markdown",
   "metadata": {},
   "source": [
    "Fisher information $I(\\mu) = \n",
    "\\left[\\frac{\\varphi'(1, \\mu)}{\\varphi(1,\\mu)}\\right]^2\\varphi(1,\\mu) + \\left[\\frac{\\varphi'(0, \\mu)}{\\varphi(0,\\mu)}\\right]^2\\varphi(0,\\mu) = \n",
    "\\frac{1^2}{\\mu}\\mu + {\\frac{1^2}{\\mu}\\mu}=\n",
    "\\frac{2}{\\mu}$"
   ]
  },
  {
   "cell_type": "markdown",
   "metadata": {},
   "source": [
    "$\\min D = \\frac{1}{nI(\\mu)} = \\frac{1}{9\\frac{2}{\\mu}}=\\frac{\\mu}{18}$"
   ]
  },
  {
   "cell_type": "markdown",
   "metadata": {},
   "source": [
    "Consider only unbiased estimators"
   ]
  },
  {
   "cell_type": "markdown",
   "metadata": {},
   "source": [
    "$D(\\hat{\\mu_2})=D(X_1)=\\frac{\\mu}{2}\\neq \\min D \\Rightarrow$ it is not efficent estimator"
   ]
  },
  {
   "cell_type": "markdown",
   "metadata": {},
   "source": [
    "$D(\\hat{\\mu_3})=D(\\overline{X})=\\frac{1}{9^2}D(X_1+\\dots+X_9)=\\frac{9\\mu}{9^22} = \\frac{\\mu}{18} = \\min D$ \n",
    "\n",
    "Answer: $\\hat{\\mu_3}$ is an efficent estimator (the most efficent)"
   ]
  },
  {
   "cell_type": "markdown",
   "metadata": {},
   "source": [
    "**4. Topographer measures the square of a rectangle area. The measurement tool is set as the length $X$ and width $Y$ of area are independent. The real value for the length $X$ is $10$ and for the width $Y$ is $5$. The distribution of $X$ and $Y$:**"
   ]
  },
  {
   "cell_type": "markdown",
   "metadata": {},
   "source": [
    "<img src=\"2019-09-20_17-36-59.png\" width=200 align=\"left\"/>"
   ]
  },
  {
   "cell_type": "markdown",
   "metadata": {},
   "source": [
    "**The estimation of the square $A = XY$ is a random variable.**\n",
    "* **Is $X$ unbiased estimator of length? Prove**"
   ]
  },
  {
   "cell_type": "markdown",
   "metadata": {},
   "source": [
    "$M(X)=8\\frac{1}{4}+10\\frac{1}{4}+11\\frac{1}{2}= \\frac{8}{4} + \\frac{10}{4} + \\frac{22}{4}=\\frac{40}{4}=10=X \\Rightarrow$ it is unbiased estimator"
   ]
  },
  {
   "cell_type": "markdown",
   "metadata": {},
   "source": [
    "* **Is $Y$ unbiased estimator of width? Prove**\n"
   ]
  },
  {
   "cell_type": "markdown",
   "metadata": {},
   "source": [
    "$M(Y)=4\\frac{1}{2}+6\\frac{1}{2}= 5=Y \\Rightarrow$ it is unbiased estimator"
   ]
  },
  {
   "cell_type": "markdown",
   "metadata": {},
   "source": [
    "* **Is $A = XY$ unbiased estimator of square? Prove**"
   ]
  },
  {
   "cell_type": "markdown",
   "metadata": {},
   "source": [
    "$XY = 50$"
   ]
  },
  {
   "cell_type": "markdown",
   "metadata": {},
   "source": [
    "$M(XY)=\\sum_{i=1}^3\\sum_{j=1}^2x_iy_jP(X=x_i)P(Y=y_j)$\n",
    "\n",
    "$ = 8\\cdot4\\cdot\\frac{1}{8} + 8\\cdot6\\cdot\\frac{1}{8} + 10\\cdot4\\cdot\\frac{1}{8} + 10\\cdot6\\cdot\\frac{1}{8} +\n",
    "11\\cdot4\\cdot\\frac{1}{4} + 11\\cdot6\\cdot\\frac{1}{4} $\n",
    "\n",
    "$=\\frac{32}{8} + \\frac{48}{8} + \\frac{40}{8} + \\frac{60}{8} + \\frac{88}{8} + \\frac{132}{8}$\n",
    "\n",
    "$=\\frac{400}{8}=50=XY \\Rightarrow $ it is unbiased estimator"
   ]
  },
  {
   "cell_type": "markdown",
   "metadata": {},
   "source": [
    "**5. The two measurements of a side of square are taken $X_1$, $X_2$. Let measurements be\n",
    "independent with mean $\\alpha$ ($\\alpha$ is a real length of the square) and $\\sigma^2$. What is MSE of\n",
    "the area estimator $X_1X_2$?**"
   ]
  },
  {
   "cell_type": "markdown",
   "metadata": {},
   "source": [
    "$\\alpha^2$ — the real area of square"
   ]
  },
  {
   "cell_type": "markdown",
   "metadata": {},
   "source": [
    "$MSE(X_1X_2)=D(X_1X_2)+Bias(X_1X_2, \\alpha^2)^2$"
   ]
  },
  {
   "cell_type": "markdown",
   "metadata": {},
   "source": [
    "* $D(X_1X_2)=D(X_1)D(X_2)+\\alpha^2D(X_1)+\\alpha^2D(X_2)=\\sigma^4+\\alpha^2\\sigma^2+\\alpha^2\\sigma^2=\\sigma^4+2\\alpha^2\\sigma^2$"
   ]
  },
  {
   "cell_type": "markdown",
   "metadata": {},
   "source": [
    "* $M(X_1X_2)=M(X_1)M(X_2)=\\alpha^2 \\Rightarrow Bias=0$"
   ]
  },
  {
   "cell_type": "markdown",
   "metadata": {},
   "source": [
    "$MSE(X_1X_2)=\\sigma^4+2\\alpha^2\\sigma^2$"
   ]
  },
  {
   "cell_type": "markdown",
   "metadata": {},
   "source": [
    "**6. The mean $\\lambda$ of Poisson distribution can be $1$ or $2$. The one measurement of random\n",
    "variable $X$ has been taken. Two estimators of $\\lambda$ are defined as:**"
   ]
  },
  {
   "cell_type": "markdown",
   "metadata": {},
   "source": [
    "<img src='2019-09-20_23-49-42.png' width=400 align='left'>"
   ]
  },
  {
   "cell_type": "markdown",
   "metadata": {},
   "source": [
    "**a) What is the mean and variance for $\\hat{\\lambda}$?**"
   ]
  },
  {
   "cell_type": "markdown",
   "metadata": {},
   "source": [
    "$$\\text{Poisson distribution: } P(X=m)=\\frac{\\lambda^me^{-\\lambda}}{m!}$$"
   ]
  },
  {
   "cell_type": "markdown",
   "metadata": {},
   "source": [
    "$M(X)=\\lambda$, $D(X)=\\lambda$"
   ]
  },
  {
   "cell_type": "markdown",
   "metadata": {},
   "source": [
    "For $\\lambda=1$"
   ]
  },
  {
   "cell_type": "markdown",
   "metadata": {},
   "source": [
    "$M(\\hat{\\lambda}) = 1\\cdot P(X=0,\\lambda=1) + 1.5\\cdot P(X=1,\\lambda=1) + 2\\cdot P(X\\geq2,\\lambda=1)$"
   ]
  },
  {
   "cell_type": "markdown",
   "metadata": {},
   "source": [
    "$=\\left[P(X\\geq2, \\lambda=1) = 1 - P(X=0, \\lambda=1) - P(X=1, \\lambda=1)\\right]$\n",
    "\n",
    "$=e^{-1} + 1.5 \\cdot e^{-1} + 2 \\cdot (1 - 2e^{-1})$"
   ]
  },
  {
   "cell_type": "markdown",
   "metadata": {},
   "source": [
    "$=2.5e^{-1} + 2 - 4e^{-1} = 2 - 1.5e^{-1}$"
   ]
  },
  {
   "cell_type": "code",
   "execution_count": 6,
   "metadata": {},
   "outputs": [],
   "source": [
    "import math"
   ]
  },
  {
   "cell_type": "code",
   "execution_count": 27,
   "metadata": {},
   "outputs": [
    {
     "data": {
      "text/plain": [
       "1.4481808382428365"
      ]
     },
     "execution_count": 27,
     "metadata": {},
     "output_type": "execute_result"
    }
   ],
   "source": [
    "2 - 1.5 * math.exp(-1)"
   ]
  },
  {
   "cell_type": "markdown",
   "metadata": {},
   "source": [
    "$M(\\hat{\\lambda})\\approx1.45$"
   ]
  },
  {
   "cell_type": "markdown",
   "metadata": {},
   "source": [
    "$D(\\hat{\\lambda})=(1-(2 - 1.5e^{-1}))^2 e^{-1} + (1.5 - (2 - 1.5e^{-1}))^2 e^{-1} + (2 - (2 - 1.5e^{-1}))^2(1-2e^{-1})$"
   ]
  },
  {
   "cell_type": "markdown",
   "metadata": {},
   "source": [
    "$=(1.5e^{-1}-1)^2 e^{-1} + (1.5e^{-1}-0.5)^2 e^{-1} + (1.5e^{-1})^{2}(1-2e^{-1})$"
   ]
  },
  {
   "cell_type": "code",
   "execution_count": 16,
   "metadata": {},
   "outputs": [
    {
     "data": {
      "text/plain": [
       "0.12852405430626074"
      ]
     },
     "execution_count": 16,
     "metadata": {},
     "output_type": "execute_result"
    }
   ],
   "source": [
    "((1.5 * math.exp(-1) - 1) ** 2) * math.exp(-1) \\\n",
    "    + ((1.5 * math.exp(-1) - 0.5) ** 2) * math.exp(-1) \\\n",
    "    + (1.5 * math.exp(-1) ** 2) * (1 - 2 * math.exp(-1))"
   ]
  },
  {
   "cell_type": "markdown",
   "metadata": {},
   "source": [
    "$D(\\hat{\\lambda})\\approx0.13$"
   ]
  },
  {
   "cell_type": "markdown",
   "metadata": {},
   "source": [
    "For $\\lambda=2$"
   ]
  },
  {
   "cell_type": "markdown",
   "metadata": {},
   "source": [
    "$M(\\hat{\\lambda}) = 1\\cdot P(X=0,\\lambda=2) + 1.5\\cdot P(X=1,\\lambda=2) + 2\\cdot P(X\\geq2,\\lambda=2)$"
   ]
  },
  {
   "cell_type": "markdown",
   "metadata": {},
   "source": [
    "$=\\left[P(X\\geq2, \\lambda=2) = 1 - P(X=0, \\lambda=2) - P(X=1, \\lambda=2)\\right]$\n",
    "\n",
    "$=e^{-1} + 1.5 \\cdot 2e^{-2} + 2 \\cdot (1 - e^{-1} - 2e^{-2})$"
   ]
  },
  {
   "cell_type": "markdown",
   "metadata": {},
   "source": [
    "$=e^{-1} + 3e^{-2} + 2 - 2e^{-1} - 4e^{-2}$"
   ]
  },
  {
   "cell_type": "markdown",
   "metadata": {},
   "source": [
    "$=2-e^{-1}-e^{-2}$"
   ]
  },
  {
   "cell_type": "code",
   "execution_count": 17,
   "metadata": {},
   "outputs": [
    {
     "data": {
      "text/plain": [
       "1.4967852755919449"
      ]
     },
     "execution_count": 17,
     "metadata": {},
     "output_type": "execute_result"
    }
   ],
   "source": [
    "2 - math.exp(-1) - math.exp(-2)"
   ]
  },
  {
   "cell_type": "markdown",
   "metadata": {},
   "source": [
    "$M(\\hat{\\lambda})\\approx1.5$"
   ]
  },
  {
   "cell_type": "markdown",
   "metadata": {},
   "source": [
    "$D(\\hat{\\lambda})=\n",
    "(1-(2-e^{-1}-e^{-2}))^2 e^{-1} + (1.5 - (2-e^{-1}-e^{-2}))^2 2e^{-2} + (2 - (2-e^{-1}-e^{-2}))^2(1-e^{-1}-2e^{-2})$"
   ]
  },
  {
   "cell_type": "markdown",
   "metadata": {},
   "source": [
    "$=\n",
    "(-1+e^{-1}+e^{-2})^2 e^{-1} + (- 0.5+e^{-1}+e^{-2})^2 2e^{-2} + (e^{-1}+e^{-2})^2(1-e^{-1}-2e^{-2})$"
   ]
  },
  {
   "cell_type": "code",
   "execution_count": 19,
   "metadata": {},
   "outputs": [
    {
     "data": {
      "text/plain": [
       "0.18232202392867392"
      ]
     },
     "execution_count": 19,
     "metadata": {},
     "output_type": "execute_result"
    }
   ],
   "source": [
    "(-1 + math.exp(-1) + math.exp(-2))**2 * math.exp(-1) \\\n",
    "    + (-0.5 + math.exp(-1) + math.exp(-2))**2 * 2 * math.exp(-2) \\\n",
    "    + (math.exp(-1) + math.exp(-2))**2 * (1 - math.exp(-1) - 2*math.exp(-2))"
   ]
  },
  {
   "cell_type": "markdown",
   "metadata": {},
   "source": [
    "$D(\\hat{\\lambda})\\approx0.18$"
   ]
  },
  {
   "cell_type": "markdown",
   "metadata": {},
   "source": [
    "Answer: \n",
    "\n",
    "for $\\lambda=1$: $M(\\hat{\\lambda})\\approx1.45$, $D(\\hat{\\lambda})\\approx0.13$\n",
    "\n",
    "for $\\lambda=2$: $M(\\hat{\\lambda})\\approx1.5$, $D(\\hat{\\lambda})\\approx0.18$"
   ]
  },
  {
   "cell_type": "markdown",
   "metadata": {},
   "source": [
    "**b) What is the mean and variance for $\\tilde{\\lambda}$?**"
   ]
  },
  {
   "cell_type": "markdown",
   "metadata": {},
   "source": [
    "For $\\lambda=1$"
   ]
  },
  {
   "cell_type": "markdown",
   "metadata": {},
   "source": [
    "$M(\\tilde{\\lambda}) = 0\\cdot P(X=0,\\lambda=1) + 1\\cdot P(X=1,\\lambda=1) + 2\\cdot P(X\\geq2,\\lambda=1)$"
   ]
  },
  {
   "cell_type": "markdown",
   "metadata": {},
   "source": [
    "$=\\left[P(X\\geq2, \\lambda=1) = 1 - P(X=0, \\lambda=1) - P(X=1, \\lambda=1)\\right]$\n",
    "\n",
    "$= e^{-1} + 2 (1 - 2e^{-1})$"
   ]
  },
  {
   "cell_type": "markdown",
   "metadata": {},
   "source": [
    "$=e^{-1} + 2 - 4e^{-1} = 2 - 3e^{-1}$"
   ]
  },
  {
   "cell_type": "code",
   "execution_count": 21,
   "metadata": {},
   "outputs": [
    {
     "data": {
      "text/plain": [
       "0.896361676485673"
      ]
     },
     "execution_count": 21,
     "metadata": {},
     "output_type": "execute_result"
    }
   ],
   "source": [
    "2 - 3 * math.exp(-1)"
   ]
  },
  {
   "cell_type": "markdown",
   "metadata": {},
   "source": [
    "$M(\\tilde{\\lambda})\\approx0.9$"
   ]
  },
  {
   "cell_type": "markdown",
   "metadata": {},
   "source": [
    "$D(\\tilde{\\lambda})=(0-(2 - 3e^{-1}))^2 e^{-1} + (1 - (2 - 3e^{-1}))^2 e^{-1} + (2 - (2 - 3e^{-1}))^2(1-2e^{-1})$"
   ]
  },
  {
   "cell_type": "markdown",
   "metadata": {},
   "source": [
    "$=(3e^{-1}-2)^2 e^{-1} + (3e^{-1}-1)^2 e^{-1} + 9e^{-2}(1-2e^{-1})$"
   ]
  },
  {
   "cell_type": "code",
   "execution_count": 34,
   "metadata": {},
   "outputs": [
    {
     "data": {
      "text/plain": [
       "0.6213796567276975"
      ]
     },
     "execution_count": 34,
     "metadata": {},
     "output_type": "execute_result"
    }
   ],
   "source": [
    "(3 * math.exp(-1) - 2) ** 2 * math.exp(-1) \\\n",
    "    + (3 * math.exp(-1) - 1) ** 2 * math.exp(-1) \\\n",
    "    + 9 * math.exp(-2) * (1 - 2 * math.exp(-1))"
   ]
  },
  {
   "cell_type": "markdown",
   "metadata": {},
   "source": [
    "$D(\\tilde{\\lambda})\\approx0.62$"
   ]
  },
  {
   "cell_type": "markdown",
   "metadata": {},
   "source": [
    "For $\\lambda=2$"
   ]
  },
  {
   "cell_type": "markdown",
   "metadata": {},
   "source": [
    "$M(\\tilde{\\lambda}) = 0\\cdot P(X=0,\\lambda=2) + 1\\cdot P(X=1,\\lambda=2) + 2\\cdot P(X\\geq2,\\lambda=2)$"
   ]
  },
  {
   "cell_type": "markdown",
   "metadata": {},
   "source": [
    "$=\\left[P(X\\geq2, \\lambda=2) = 1 - P(X=0, \\lambda=2) - P(X=1, \\lambda=2)\\right]$\n",
    "\n",
    "$= 2e^{-2} + 2 \\cdot (1 - e^{-1} - 2e^{-2})$"
   ]
  },
  {
   "cell_type": "markdown",
   "metadata": {},
   "source": [
    "$=2e^{-2} + 2 - 2e^{-1} - 4e^{-2}$"
   ]
  },
  {
   "cell_type": "markdown",
   "metadata": {},
   "source": [
    "$=2-2e^{-1}-2e^{-2}$"
   ]
  },
  {
   "cell_type": "code",
   "execution_count": 35,
   "metadata": {},
   "outputs": [
    {
     "data": {
      "text/plain": [
       "0.9935705511838899"
      ]
     },
     "execution_count": 35,
     "metadata": {},
     "output_type": "execute_result"
    }
   ],
   "source": [
    "2 - 2 * math.exp(-1) - 2 * math.exp(-2)"
   ]
  },
  {
   "cell_type": "markdown",
   "metadata": {},
   "source": [
    "$M(\\tilde{\\lambda})\\approx0.99$"
   ]
  },
  {
   "cell_type": "markdown",
   "metadata": {},
   "source": [
    "$D(\\tilde{\\lambda})=\n",
    "(0-(2-2e^{-1}-2e^{-2}))^2 e^{-1} + (1 - (2-2e^{-1}-2e^{-2}))^2 2e^{-2} + (2 - (2-2e^{-1}-2e^{-2}))^2(1-e^{-1}-2e^{-2})$"
   ]
  },
  {
   "cell_type": "markdown",
   "metadata": {},
   "source": [
    "$=\n",
    "(-2+2e^{-1}+2e^{-2})^2 e^{-1} + (- 1+2e^{-1}+2e^{-2})^2 2e^{-2} + (2e^{-1}+2e^{-2})^2(1-e^{-1}-2e^{-2})$"
   ]
  },
  {
   "cell_type": "code",
   "execution_count": 36,
   "metadata": {},
   "outputs": [
    {
     "data": {
      "text/plain": [
       "0.7292880957146957"
      ]
     },
     "execution_count": 36,
     "metadata": {},
     "output_type": "execute_result"
    }
   ],
   "source": [
    "(-2 + 2*math.exp(-1) + 2*math.exp(-2))**2 * math.exp(-1) \\\n",
    "    + (-1 + 2*math.exp(-1) + 2*math.exp(-2))**2 * 2 * math.exp(-2) \\\n",
    "    + (2*math.exp(-1) + 2*math.exp(-2))**2 * (1 - math.exp(-1) - 2*math.exp(-2))"
   ]
  },
  {
   "cell_type": "markdown",
   "metadata": {},
   "source": [
    "$D(\\tilde{\\lambda})\\approx0.73$"
   ]
  },
  {
   "cell_type": "markdown",
   "metadata": {},
   "source": [
    "Answer: \n",
    "\n",
    "for $\\lambda=1$: $M(\\hat{\\lambda})\\approx0.9$, $D(\\hat{\\lambda})\\approx0.62$\n",
    "\n",
    "for $\\lambda=2$: $M(\\hat{\\lambda})\\approx0.99$, $D(\\hat{\\lambda})\\approx0.73$"
   ]
  },
  {
   "cell_type": "markdown",
   "metadata": {},
   "source": [
    "**c) Which estimator is more accurate?**"
   ]
  },
  {
   "cell_type": "markdown",
   "metadata": {},
   "source": [
    "For $\\lambda = 1$"
   ]
  },
  {
   "cell_type": "markdown",
   "metadata": {},
   "source": [
    "$MSE(\\hat{\\lambda}) = D(\\hat{\\lambda}) + Bias(\\hat{\\lambda}, \\lambda)^2 \\approx 0.13 + 0.45^2$"
   ]
  },
  {
   "cell_type": "code",
   "execution_count": 37,
   "metadata": {},
   "outputs": [
    {
     "data": {
      "text/plain": [
       "0.3325"
      ]
     },
     "execution_count": 37,
     "metadata": {},
     "output_type": "execute_result"
    }
   ],
   "source": [
    "0.13 + 0.45 ** 2"
   ]
  },
  {
   "cell_type": "markdown",
   "metadata": {},
   "source": [
    "$\\approx 0.33$"
   ]
  },
  {
   "cell_type": "markdown",
   "metadata": {},
   "source": [
    "$MSE(\\tilde{\\lambda}) = D(\\tilde{\\lambda}) + Bias(\\tilde{\\lambda}, \\lambda)^2 \\approx 0.62 + 0.1^2$\n",
    "\n",
    "$\\approx 0.621$"
   ]
  },
  {
   "cell_type": "markdown",
   "metadata": {},
   "source": [
    "For $\\lambda=2$"
   ]
  },
  {
   "cell_type": "markdown",
   "metadata": {},
   "source": [
    "$MSE(\\hat{\\lambda}) = D(\\hat{\\lambda}) + Bias(\\hat{\\lambda}, \\lambda)^2 \\approx 0.18 + 0.5^2$"
   ]
  },
  {
   "cell_type": "code",
   "execution_count": 38,
   "metadata": {},
   "outputs": [
    {
     "data": {
      "text/plain": [
       "0.43"
      ]
     },
     "execution_count": 38,
     "metadata": {},
     "output_type": "execute_result"
    }
   ],
   "source": [
    "0.18 + 0.5 ** 2"
   ]
  },
  {
   "cell_type": "markdown",
   "metadata": {},
   "source": [
    "$\\approx 0.43$"
   ]
  },
  {
   "cell_type": "markdown",
   "metadata": {},
   "source": [
    "$MSE(\\tilde{\\lambda}) = D(\\tilde{\\lambda}) + Bias(\\tilde{\\lambda}, \\lambda)^2 \\approx 0.73 + 0.01^2$\n",
    "\n",
    "$\\approx 0.73$"
   ]
  },
  {
   "cell_type": "markdown",
   "metadata": {},
   "source": [
    "Answer: $\\hat{\\lambda}$ is more accurate then $\\tilde{\\lambda}$ in both cases"
   ]
  },
  {
   "cell_type": "markdown",
   "metadata": {},
   "source": [
    "**7. Let $X_1$,$X_2$,$X_3$ be a set of values for random variable with mean ($\\mu$) and variance ($\\sigma^2$). Let’s take a look at two estimators of $\\sigma^2$:**\n",
    "\n",
    "1. $\\hat{\\sigma_1^2}=c_1(X_1-\\mu)^2$\n",
    "\n",
    "2. $\\hat{\\sigma_2^2}=c_2(X_1-\\mu)^2+c_2(X_2-\\mu)^2+c_2(X_3-\\mu)^2$\n",
    "\n",
    "**a) What $c_1$ ,$c_2$ can be equal to satisfy the $\\hat{\\sigma_1^2}$, $\\hat{\\sigma_2^2}$ are unbiased estimators of $\\sigma^2$?**"
   ]
  },
  {
   "cell_type": "markdown",
   "metadata": {},
   "source": [
    "$M(\\hat{\\sigma_1^2}) = M[c_1(X_1-\\mu)^2] = c_1M[(X_1-\\mu)^2]=c_1\\sigma^2\\Rightarrow c_1 = 1$ "
   ]
  },
  {
   "cell_type": "markdown",
   "metadata": {},
   "source": [
    "$M(\\hat{\\sigma_2^2})=M[c_2(X_1-\\mu)^2+c_2(X_2-\\mu)^2+c_2(X_3-\\mu)^2]=\n",
    "c_2M[(X_1-\\mu)^2]+c_2M[(X_2-\\mu)^2]+c_2M[(X_3-\\mu)^2)]=3c_2\\sigma^2 \\Rightarrow c_2=\\frac{1}{3}$"
   ]
  },
  {
   "cell_type": "markdown",
   "metadata": {},
   "source": [
    "**b) Find proportion: efficiency($\\hat{\\sigma_1^2}$) / efficiency($\\hat{\\sigma_2^2}$)**"
   ]
  },
  {
   "cell_type": "markdown",
   "metadata": {},
   "source": [
    "If $c_1=1$ and $c_2=\\frac{1}{3}$ then $Bias=0$, so"
   ]
  },
  {
   "cell_type": "markdown",
   "metadata": {},
   "source": [
    "$MSE(\\hat{\\sigma_1^2})=D(\\hat{\\sigma_1^2}) = D[(X_1-\\mu)^2]$"
   ]
  },
  {
   "cell_type": "markdown",
   "metadata": {},
   "source": [
    "$MSE(\\hat{\\sigma_2^2})=D[\\frac{1}{3}(X_1-\\mu)^2+\\frac{1}{3}(X_2-\\mu)^2+\\frac{1}{3}(X_3-\\mu)^2]=\n",
    "\\frac{1}{9}D[(X_1-\\mu)^2]+\\frac{1}{9}D[(X_2-\\mu)^2]+\\frac{1}{9}D[(X_3-\\mu)^2]=\\frac{1}{3}D[(X_i-\\mu)^2]$"
   ]
  },
  {
   "cell_type": "markdown",
   "metadata": {},
   "source": [
    "Thereby $\\frac{MSE(\\hat{\\sigma_1^2})}{MSE(\\hat{\\sigma_2^2})}=\\frac{D[(X_1-\\mu)^2]}{\\frac{1}{3}D[(X_i-\\mu)^2]}=3$"
   ]
  },
  {
   "cell_type": "markdown",
   "metadata": {},
   "source": [
    "___"
   ]
  },
  {
   "cell_type": "markdown",
   "metadata": {},
   "source": [
    "### Part 2"
   ]
  },
  {
   "cell_type": "markdown",
   "metadata": {},
   "source": [
    "**1. $($The mean of the empirical distribution$)^2$ is an estimator of $($the mean of the random variable$)^2$ ? Proof**"
   ]
  },
  {
   "cell_type": "markdown",
   "metadata": {},
   "source": [
    "Let $\\overline{X}$ be the mean of the emperical distribution and $\\mu$ is the mean of the random variable"
   ]
  },
  {
   "cell_type": "markdown",
   "metadata": {},
   "source": [
    "$D(\\overline{X})=M(\\overline{X}^2)-M(\\overline{X})^2 \\Rightarrow M(\\overline{X}^2)=D(\\overline{X})+M(\\overline{X})^2=D(\\overline{X})+\\mu^2$"
   ]
  },
  {
   "cell_type": "markdown",
   "metadata": {},
   "source": [
    "$D(\\overline{X})=D(\\frac{X_1+\\dots+X_n}{n})=\\frac{1}{n^2}D(X_1+\\dots+X_n)=\\frac{1}{n^2}n\\sigma^2=\\frac{\\sigma^2}{n}$"
   ]
  },
  {
   "cell_type": "markdown",
   "metadata": {},
   "source": [
    "Thereby $\\overline{X}^2$ is biased estimator of $\\mu^2$ with $Bias=\\frac{\\sigma^2}{n}$"
   ]
  },
  {
   "cell_type": "markdown",
   "metadata": {},
   "source": [
    "**2. Let $X$ be a random variable $ \\sim N(147.8,12.3^2)$.**\n",
    "\n",
    "**a. What is $P(X<163.3)$?**\n"
   ]
  },
  {
   "cell_type": "markdown",
   "metadata": {},
   "source": [
    "$a=147.8, \\sigma^2=12.3^2$"
   ]
  },
  {
   "cell_type": "markdown",
   "metadata": {},
   "source": [
    "$$P(X<163.3)=\\int_{-\\infty}^{163}\\frac{1}{\\sqrt{2\\pi\\cdot12.3^2}}e^{-\\frac{(x-147.8)^2}{2\\cdot12.3^2}}dx\\approx0.89$$"
   ]
  },
  {
   "cell_type": "markdown",
   "metadata": {},
   "source": [
    "**b. Let $\\overline{X}$ be an empirical mean and $s^2$ be an empirical variance that have been obtained via sample set with size $n = 25$ of random variable $X$. What is $P(\\overline{X}\\leq150.9)$?**"
   ]
  },
  {
   "cell_type": "markdown",
   "metadata": {},
   "source": [
    "$\\overline{X}\\leq150.9\\Rightarrow\\frac{X_1+\\dots+X_{25}}{25}\\leq150.9\\Rightarrow X_1+\\dots+X_n\\leq3772.5$"
   ]
  },
  {
   "cell_type": "markdown",
   "metadata": {},
   "source": [
    "Let $Y = X_1+\\dots+X_{25} \\Rightarrow M(Y)=M(X_1+\\dots+X_{25})=25\\cdot147.8=3695$ \n",
    "\n",
    "and $D(Y)=D(X_1+\\dots+X_{25})=25\\cdot12.3^2=3782.25$"
   ]
  },
  {
   "cell_type": "markdown",
   "metadata": {},
   "source": [
    "Thereby $Y \\sim N(3695, 3782.25)$"
   ]
  },
  {
   "cell_type": "markdown",
   "metadata": {},
   "source": [
    "$$P(Y<3772.5)=\\int_{-\\infty}^{3772.5}\\frac{1}{\\sqrt{2\\pi\\cdot3782.25}}e^{-\\frac{(x-3695)^2}{2\\cdot3782.25}}dx\\approx0.83$$"
   ]
  },
  {
   "cell_type": "markdown",
   "metadata": {},
   "source": [
    "**c. What $a$ and $b$ can be equal to satisfy the $P(a\\leq s^2\\leq b) = 0.95$?**"
   ]
  },
  {
   "cell_type": "markdown",
   "metadata": {},
   "source": [
    "$s^2=\\frac{(X_1-147.8)^2+\\dots+(X_{25}-147.8)^2}{25}$"
   ]
  },
  {
   "cell_type": "markdown",
   "metadata": {},
   "source": [
    "Let $Y=X-147.8 \\Rightarrow M(Y)= M(X-147.8) = M(X)-147.8=0$"
   ]
  },
  {
   "cell_type": "markdown",
   "metadata": {},
   "source": [
    "and $D(Y)= D(X-147.8) = D(X)-0=12.3^2$"
   ]
  },
  {
   "cell_type": "markdown",
   "metadata": {},
   "source": [
    "Thereby $Y \\sim N(0, 12.3^2) \\Rightarrow Z=\\frac{Y-0}{12.3}\\sim N(0,1)$"
   ]
  },
  {
   "cell_type": "markdown",
   "metadata": {},
   "source": [
    "and $a\\leq s^2\\leq b\\Rightarrow a \\leq \\frac{12.3(Z_1^2+\\dots+Z_{25}^2)}{25} \\leq b \\Rightarrow \\frac{25}{12.3}a \\leq Z_1^2+\\dots+Z_{25}^2 \\leq \\frac{25}{12.3}b$\n",
    "\n",
    "$\\Rightarrow \\frac{25}{12.3}a \\leq W \\leq \\frac{25}{12.3}b$ where $W \\sim \\chi^2(k=25)$"
   ]
  },
  {
   "cell_type": "markdown",
   "metadata": {},
   "source": [
    "Let $\\frac{25}{12.3}a=0 \\Rightarrow P(0 \\leq W \\leq 37.652) \\approx 0.95$"
   ]
  },
  {
   "cell_type": "markdown",
   "metadata": {},
   "source": [
    "$37.652=\\frac{25b}{12.3} \\Rightarrow b = \\frac{37.652 \\cdot 12.3}{25}$"
   ]
  },
  {
   "cell_type": "code",
   "execution_count": 65,
   "metadata": {},
   "outputs": [
    {
     "data": {
      "text/plain": [
       "18.524784"
      ]
     },
     "execution_count": 65,
     "metadata": {},
     "output_type": "execute_result"
    }
   ],
   "source": [
    "37.652 * 12.3 / 25"
   ]
  },
  {
   "cell_type": "markdown",
   "metadata": {},
   "source": [
    "Answer: $a=0$, $b\\approx 18.52$"
   ]
  },
  {
   "cell_type": "markdown",
   "metadata": {},
   "source": [
    "**3.The table shows the average temperature in January per year in two cities:**"
   ]
  },
  {
   "cell_type": "markdown",
   "metadata": {},
   "source": [
    "<img src='2019-09-24_14-54-42.png' width=600 align='left'>"
   ]
  },
  {
   "cell_type": "markdown",
   "metadata": {},
   "source": [
    "**a) What is empirical mean?**"
   ]
  },
  {
   "cell_type": "markdown",
   "metadata": {},
   "source": [
    "$\\overline{X}=\\frac{1}{n}\\sum x_i$"
   ]
  },
  {
   "cell_type": "code",
   "execution_count": 1,
   "metadata": {},
   "outputs": [],
   "source": [
    "import pandas as pd"
   ]
  },
  {
   "cell_type": "code",
   "execution_count": 2,
   "metadata": {},
   "outputs": [],
   "source": [
    "df = pd.DataFrame({\n",
    "    'city1': [-19.2, -14.8, -19.6, -11.1, -9.4, -16.9, -13.7, -4.9, -13.9, -9.4, -8.3, -7.9, -5.3],\n",
    "    'city2': [-21.8, -15.4, -20.8, -11.3, -11.6, -19.2, -13.0, -7.4, -15.1, -14.4, -11.1, -10.5, -7.2]})"
   ]
  },
  {
   "cell_type": "code",
   "execution_count": 3,
   "metadata": {},
   "outputs": [
    {
     "name": "stdout",
     "output_type": "stream",
     "text": [
      "The emperical mean for City 1: -11.88\n",
      "The emperical mean for City 2: -13.75\n"
     ]
    }
   ],
   "source": [
    "mean1 = 0\n",
    "for i in list(df['city1']):\n",
    "    mean1 += i\n",
    "mean1 = mean1 / len(df)\n",
    "print('The emperical mean for City 1:', round(mean1, 2))\n",
    "\n",
    "mean2 = 0\n",
    "for i in list(df['city2']):\n",
    "    mean2 += i\n",
    "mean2 = mean2 / len(df)\n",
    "print('The emperical mean for City 2:', round(mean2, 2))"
   ]
  },
  {
   "cell_type": "markdown",
   "metadata": {},
   "source": [
    "**b) What is empirical variance?**"
   ]
  },
  {
   "cell_type": "markdown",
   "metadata": {},
   "source": [
    "$s^2=\\frac{1}{n}\\sum(x_i-\\overline{X})^2$ (a biased estimator)"
   ]
  },
  {
   "cell_type": "code",
   "execution_count": 71,
   "metadata": {},
   "outputs": [
    {
     "name": "stdout",
     "output_type": "stream",
     "text": [
      "The emperical variance for City 1: 22.14\n",
      "The emperical variance for City 2: 20.09\n"
     ]
    }
   ],
   "source": [
    "var1 = 0\n",
    "for i in list(df['city1']):\n",
    "    var1 += (i - mean1) ** 2\n",
    "var1 = var1 / len(df)\n",
    "print('The emperical variance for City 1:', round(var1, 2))\n",
    "\n",
    "var2 = 0\n",
    "for i in list(df['city2']):\n",
    "    var2 += (i - mean2) ** 2\n",
    "var2 = var2 / len(df)\n",
    "print('The emperical variance for City 2:', round(var2, 2))"
   ]
  },
  {
   "cell_type": "markdown",
   "metadata": {},
   "source": [
    "**c) What is empirical correlation coefficient?**"
   ]
  },
  {
   "cell_type": "markdown",
   "metadata": {},
   "source": [
    "$corr = \\frac{cov}{s_1s_2} = \\frac{\\overline{X_1X_2}-\\overline{X_1}\\cdot{\\overline{X_2}}}{s_1s_2}$"
   ]
  },
  {
   "cell_type": "code",
   "execution_count": 75,
   "metadata": {},
   "outputs": [
    {
     "name": "stdout",
     "output_type": "stream",
     "text": [
      "The emperical correlation coefficient: 0.96\n"
     ]
    }
   ],
   "source": [
    "prod_mean = 0\n",
    "for i in range(len(df)):\n",
    "    prod_mean += list(df['city1'])[i] * list(df['city2'])[i]\n",
    "prod_mean = prod_mean / len(df)\n",
    "cov = prod_mean - mean1 * mean2\n",
    "corr = cov / (var1**(1/2) * var2**(1/2))\n",
    "print('The emperical correlation coefficient:', round(corr, 2))"
   ]
  },
  {
   "cell_type": "markdown",
   "metadata": {},
   "source": [
    "**d) Create the histogram using python/R**"
   ]
  },
  {
   "cell_type": "code",
   "execution_count": 82,
   "metadata": {},
   "outputs": [],
   "source": [
    "import matplotlib.pyplot as plt"
   ]
  },
  {
   "cell_type": "code",
   "execution_count": 98,
   "metadata": {},
   "outputs": [
    {
     "data": {
      "image/png": "[encoded data removed]",
      "text/plain": [
       "<Figure size 720x360 with 2 Axes>"
      ]
     },
     "metadata": {
      "needs_background": "light"
     },
     "output_type": "display_data"
    }
   ],
   "source": [
    "df.hist(figsize=(10,5), bins=5, grid=False)\n",
    "plt.show()"
   ]
  }
 ],
 "metadata": {
  "kernelspec": {
   "display_name": "Python 3",
   "language": "python",
   "name": "python3"
  },
  "language_info": {
   "codemirror_mode": {
    "name": "ipython",
    "version": 3
   },
   "file_extension": ".py",
   "mimetype": "text/x-python",
   "name": "python",
   "nbconvert_exporter": "python",
   "pygments_lexer": "ipython3",
   "version": "3.7.1"
  }
 },
 "nbformat": 4,
 "nbformat_minor": 2
}
