{
 "cells": [
  {
   "cell_type": "markdown",
   "metadata": {},
   "source": [
    "# Probability Theory and Mathematical Statistics"
   ]
  },
  {
   "cell_type": "markdown",
   "metadata": {},
   "source": [
    "## Homework 5, Vitaliy Pozdnyakov"
   ]
  },
  {
   "cell_type": "markdown",
   "metadata": {},
   "source": [
    "___"
   ]
  },
  {
   "cell_type": "markdown",
   "metadata": {},
   "source": [
    "**Task 1. $535$ bombs fell on a southern London during World War II. The southern London had been divided on $576$ districts with area of each district = $0.25$ km. The table shows the number of bombs that fell on the districts.**"
   ]
  },
  {
   "cell_type": "markdown",
   "metadata": {},
   "source": [
    "<img src='2019-10-14_04-00-36.png' align='left' width=500>"
   ]
  },
  {
   "cell_type": "markdown",
   "metadata": {},
   "source": [
    "**Using the goodness-of-fit test procedure based on the chi-square distribution and considering the $\\alpha=0.05$, test:**\n",
    "\n",
    "**The form of the distribution of the number of bombs that fell on one district is Poisson.**\n",
    "\n",
    "**$H_0 : X \\sim Pois(\\theta)$**\n",
    "\n",
    "**The form of the distribution of the number of bombs that fell on one district is NOT Poisson.**\n",
    "\n",
    "**$H_1 : X \\nsim Pois(\\theta)$**"
   ]
  },
  {
   "cell_type": "markdown",
   "metadata": {},
   "source": [
    "Test statistic:"
   ]
  },
  {
   "cell_type": "markdown",
   "metadata": {},
   "source": [
    "$$\\chi^2 = \\sum_{i=1}^n\\frac{(n_i - n p_i)^2}{n p_i} \\sim \\chi^2(m-r-1)$$\n",
    "\n",
    "where $m$ is the number of intervals, $r$ is the number of parameters, \n",
    "\n",
    "$$p_i = P(X=x_i=m)=\\frac{\\hat\\lambda^me^{-\\hat\\lambda}}{m!}$$\n",
    "\n",
    "and let $\\hat\\lambda = \\overline X$"
   ]
  },
  {
   "cell_type": "markdown",
   "metadata": {},
   "source": [
    "Checking intervals:"
   ]
  },
  {
   "cell_type": "code",
   "execution_count": 1,
   "metadata": {},
   "outputs": [],
   "source": [
    "import pandas as pd\n",
    "import math"
   ]
  },
  {
   "cell_type": "code",
   "execution_count": 2,
   "metadata": {},
   "outputs": [],
   "source": [
    "df = pd.DataFrame({\n",
    "    'bombs': [0, 1, 2, 3, 4, 5 ],\n",
    "    'districts': [229, 211, 93, 35, 7, 1]})"
   ]
  },
  {
   "cell_type": "code",
   "execution_count": 3,
   "metadata": {},
   "outputs": [
    {
     "data": {
      "text/plain": [
       "576"
      ]
     },
     "execution_count": 3,
     "metadata": {},
     "output_type": "execute_result"
    }
   ],
   "source": [
    "n = df['districts'].sum()\n",
    "n"
   ]
  },
  {
   "cell_type": "markdown",
   "metadata": {},
   "source": [
    "$n = 576$"
   ]
  },
  {
   "cell_type": "code",
   "execution_count": 4,
   "metadata": {},
   "outputs": [
    {
     "data": {
      "text/plain": [
       "0.93"
      ]
     },
     "execution_count": 4,
     "metadata": {},
     "output_type": "execute_result"
    }
   ],
   "source": [
    "bar_x = 0\n",
    "for _, val in df.iterrows():\n",
    "    bar_x += val['bombs'] * val['districts']\n",
    "bar_x = bar_x / n\n",
    "round(bar_x, 2)"
   ]
  },
  {
   "cell_type": "markdown",
   "metadata": {},
   "source": [
    "$\\overline X = 0.93$"
   ]
  },
  {
   "cell_type": "code",
   "execution_count": 5,
   "metadata": {},
   "outputs": [],
   "source": [
    "# probability of X = m\n",
    "def p_pois(m):\n",
    "    if type(m) is not list:\n",
    "        m = [m]\n",
    "    res = 0\n",
    "    for i in m:\n",
    "        res += bar_x ** i * math.exp(-bar_x) / math.factorial(i)\n",
    "    return res"
   ]
  },
  {
   "cell_type": "code",
   "execution_count": 6,
   "metadata": {
    "scrolled": true
   },
   "outputs": [
    {
     "name": "stdout",
     "output_type": "stream",
     "text": [
      "critical interval: 4\n",
      "critical interval: 5\n"
     ]
    }
   ],
   "source": [
    "for i, val in df.iterrows():\n",
    "    p = p_pois(val['bombs'])\n",
    "    if n * p < 10: print('critical interval:', i)"
   ]
  },
  {
   "cell_type": "markdown",
   "metadata": {},
   "source": [
    "Interavals with indexes 4 and 5 have $np_i<10$, so we need to union these intervals."
   ]
  },
  {
   "cell_type": "code",
   "execution_count": 7,
   "metadata": {},
   "outputs": [],
   "source": [
    "df = pd.DataFrame({\n",
    "    'bombs': [0, 1, 2, 3, [4, 5]],\n",
    "    'districts': [229, 211, 93, 35, 7+1]})"
   ]
  },
  {
   "cell_type": "code",
   "execution_count": 8,
   "metadata": {},
   "outputs": [
    {
     "name": "stdout",
     "output_type": "stream",
     "text": [
      "critical interval: 4\n"
     ]
    }
   ],
   "source": [
    "for i, val in df.iterrows():\n",
    "    p = p_pois(val['bombs'])\n",
    "    if n * p < 10: print('critical interval:', i)"
   ]
  },
  {
   "cell_type": "markdown",
   "metadata": {},
   "source": [
    "The interval with index 4 has $np_i<10$, so we need to union this interval with the neighbor (index 3)."
   ]
  },
  {
   "cell_type": "code",
   "execution_count": 9,
   "metadata": {},
   "outputs": [],
   "source": [
    "df = pd.DataFrame({\n",
    "    'bombs': [0, 1, 2, [3, 4, 5]],\n",
    "    'districts': [229, 211, 93, 35+7+1]})"
   ]
  },
  {
   "cell_type": "code",
   "execution_count": 10,
   "metadata": {},
   "outputs": [],
   "source": [
    "for i, val in df.iterrows():\n",
    "    p = p_pois(val['bombs'])\n",
    "    if n * p < 10: print('critical interval:', i)"
   ]
  },
  {
   "cell_type": "markdown",
   "metadata": {},
   "source": [
    "Now there is no interval with $np_i<10$"
   ]
  },
  {
   "cell_type": "markdown",
   "metadata": {},
   "source": [
    "Critical area for the right-tail case $\\overline{G} = [\\chi^2_{cr}, +\\infty]$"
   ]
  },
  {
   "cell_type": "markdown",
   "metadata": {},
   "source": [
    "Critical values for the right-tail case \n",
    "\n",
    "$[1 - \\chi^2(\\chi^2_{cr}, m-r-1) = 1 - \\chi^2(\\chi^2_{cr}, 4-1-1) = 1 - \\chi^2(\\chi^2_{\\alpha}, 2) = 0.95]$ \n",
    "\n",
    "(the number of intervals decreased by 2 after the union)\n",
    "\n",
    "$\\Rightarrow \\chi^2_{cr} = \\chi^2_{0.05, 3} = 7.82$"
   ]
  },
  {
   "cell_type": "markdown",
   "metadata": {},
   "source": [
    "Calculation:"
   ]
  },
  {
   "cell_type": "code",
   "execution_count": 11,
   "metadata": {},
   "outputs": [
    {
     "data": {
      "text/plain": [
       "0.75"
      ]
     },
     "execution_count": 11,
     "metadata": {},
     "output_type": "execute_result"
    }
   ],
   "source": [
    "chi2 = 0\n",
    "for i, val in df.iterrows():\n",
    "    p = p_pois(val['bombs'])\n",
    "    chi2 += (val['districts'] - n * p) ** 2 / (n * p)\n",
    "round(chi2, 2)"
   ]
  },
  {
   "cell_type": "markdown",
   "metadata": {},
   "source": [
    "$\\chi^2 = 0.75$"
   ]
  },
  {
   "cell_type": "markdown",
   "metadata": {},
   "source": [
    "$\\chi^2 \\notin \\overline{G}$ so we assept $H_0$"
   ]
  },
  {
   "cell_type": "markdown",
   "metadata": {},
   "source": [
    "**Task 2. The results of men height measures are in tables**"
   ]
  },
  {
   "cell_type": "markdown",
   "metadata": {},
   "source": [
    "<img src='2019-10-13_18-57-58.png' align='left' width=600>"
   ]
  },
  {
   "cell_type": "markdown",
   "metadata": {},
   "source": [
    "**Using the goodness-of-fit test procedure based on the chi-square distribution and considering the $\\alpha=0.05$, test:**\n",
    "\n",
    "**The form of the distribution of the men height is normal.**\n",
    "\n",
    "$H_0 : X \\sim N(\\theta_1,\\theta^2_2)$\n",
    "\n",
    "**The form of the distribution of the men height is nonnormal.**\n",
    "\n",
    "$H_1 : X \\nsim N(\\theta_1,\\theta^2_2)$"
   ]
  },
  {
   "cell_type": "markdown",
   "metadata": {},
   "source": [
    "Test statistic:"
   ]
  },
  {
   "cell_type": "markdown",
   "metadata": {},
   "source": [
    "$\\chi^2 = \\sum_{i=1}^n\\frac{(n_i - n p_i)^2}{n p_i} \\sim \\chi^2(m-r-1)$ where $m$ is the number of intervals, $r$ is the number of parameters, \n",
    "\n",
    "$$p_i = P(x_i \\leq X \\leq x_{i+1})= \n",
    "\\int_{x_i}^{x_{i+1}}\\varphi_{N(\\hat\\mu, \\hat{\\sigma^2})}(t)dt$$ \n",
    "\n",
    "and let $\\hat\\mu = \\overline X$ and $\\hat{\\sigma^2} = \\frac{1}{n}\\sum (x_i-\\hat\\mu)^2$"
   ]
  },
  {
   "cell_type": "markdown",
   "metadata": {},
   "source": [
    "Checking intervals:"
   ]
  },
  {
   "cell_type": "code",
   "execution_count": 12,
   "metadata": {},
   "outputs": [],
   "source": [
    "from scipy.stats import norm"
   ]
  },
  {
   "cell_type": "code",
   "execution_count": 13,
   "metadata": {},
   "outputs": [],
   "source": [
    "df = pd.DataFrame({\n",
    "    'mens': [1, 2, 8, 26, 65, 120, 180, 201, 170, 120, 64, 28, 10, 3, 1],\n",
    "    'height': [[143, 146], \n",
    "               [146, 149], \n",
    "               [149, 152], \n",
    "               [152, 155], \n",
    "               [155, 158], \n",
    "               [158, 161], \n",
    "               [161, 164], \n",
    "               [164, 167], \n",
    "               [167, 170],\n",
    "               [170, 173],\n",
    "               [173, 176],\n",
    "               [176, 179],\n",
    "               [179, 182],\n",
    "               [182, 185],\n",
    "               [185, 188]]})"
   ]
  },
  {
   "cell_type": "code",
   "execution_count": 14,
   "metadata": {},
   "outputs": [
    {
     "data": {
      "text/plain": [
       "999"
      ]
     },
     "execution_count": 14,
     "metadata": {},
     "output_type": "execute_result"
    }
   ],
   "source": [
    "n = df['mens'].sum()\n",
    "n"
   ]
  },
  {
   "cell_type": "markdown",
   "metadata": {},
   "source": [
    "$n = 999$"
   ]
  },
  {
   "cell_type": "code",
   "execution_count": 15,
   "metadata": {},
   "outputs": [],
   "source": [
    "def mean(interval):\n",
    "    return (interval[0] + interval[1]) / 2"
   ]
  },
  {
   "cell_type": "code",
   "execution_count": 16,
   "metadata": {},
   "outputs": [
    {
     "data": {
      "text/plain": [
       "165.53"
      ]
     },
     "execution_count": 16,
     "metadata": {},
     "output_type": "execute_result"
    }
   ],
   "source": [
    "bar_x = 0\n",
    "for _, val in df.iterrows():\n",
    "    bar_x += val['mens'] * mean(val['height'])\n",
    "bar_x = bar_x / n\n",
    "round(bar_x, 2)"
   ]
  },
  {
   "cell_type": "markdown",
   "metadata": {},
   "source": [
    "$\\overline X = 165.53$"
   ]
  },
  {
   "cell_type": "code",
   "execution_count": 17,
   "metadata": {
    "scrolled": true
   },
   "outputs": [
    {
     "data": {
      "text/plain": [
       "6.05"
      ]
     },
     "execution_count": 17,
     "metadata": {},
     "output_type": "execute_result"
    }
   ],
   "source": [
    "hat_sigma = 0\n",
    "for _, val in df.iterrows():\n",
    "    hat_sigma += val['mens'] * (mean(val['height']) - bar_x) ** 2 \n",
    "hat_sigma = (hat_sigma / n) ** (1/2)\n",
    "round(hat_sigma, 2)"
   ]
  },
  {
   "cell_type": "markdown",
   "metadata": {},
   "source": [
    "$\\hat\\sigma = 6.05$"
   ]
  },
  {
   "cell_type": "code",
   "execution_count": 18,
   "metadata": {},
   "outputs": [],
   "source": [
    "# probability of a <= X <= b\n",
    "def p_norm(interval):\n",
    "    l_bound = (interval[0] - bar_x) / hat_sigma\n",
    "    r_bound = (interval[1] - bar_x) / hat_sigma\n",
    "    return norm.cdf(r_bound) - norm.cdf(l_bound)"
   ]
  },
  {
   "cell_type": "code",
   "execution_count": 19,
   "metadata": {
    "scrolled": false
   },
   "outputs": [
    {
     "name": "stdout",
     "output_type": "stream",
     "text": [
      "critical interval: 0\n",
      "critical interval: 1\n",
      "critical interval: 2\n",
      "critical interval: 12\n",
      "critical interval: 13\n",
      "critical interval: 14\n"
     ]
    }
   ],
   "source": [
    "for i, val in df.iterrows():\n",
    "    p = p_norm(val['height'])\n",
    "    if n * p < 10: print('critical interval:', i)"
   ]
  },
  {
   "cell_type": "markdown",
   "metadata": {},
   "source": [
    "There are intervals with $np_i<10$, so we need to union these."
   ]
  },
  {
   "cell_type": "code",
   "execution_count": 20,
   "metadata": {},
   "outputs": [],
   "source": [
    "df = pd.DataFrame({\n",
    "    'mens': [1+2+8, 26, 65, 120, 180, 201, 170, 120, 64, 28, 10+3+1],\n",
    "    'height': [[143, 152],\n",
    "               [152, 155], \n",
    "               [155, 158], \n",
    "               [158, 161], \n",
    "               [161, 164], \n",
    "               [164, 167], \n",
    "               [167, 170],\n",
    "               [170, 173],\n",
    "               [173, 176],\n",
    "               [176, 179],\n",
    "               [179, 188]]})"
   ]
  },
  {
   "cell_type": "code",
   "execution_count": 21,
   "metadata": {
    "scrolled": true
   },
   "outputs": [
    {
     "data": {
      "text/plain": [
       "6.18"
      ]
     },
     "execution_count": 21,
     "metadata": {},
     "output_type": "execute_result"
    }
   ],
   "source": [
    "hat_sigma = 0\n",
    "for _, val in df.iterrows():\n",
    "    hat_sigma += val['mens'] * (mean(val['height']) - bar_x) ** 2 \n",
    "hat_sigma = (hat_sigma / n) ** (1/2)\n",
    "round(hat_sigma, 2)"
   ]
  },
  {
   "cell_type": "markdown",
   "metadata": {},
   "source": [
    "$\\hat\\sigma = 6.18$"
   ]
  },
  {
   "cell_type": "code",
   "execution_count": 22,
   "metadata": {
    "scrolled": false
   },
   "outputs": [],
   "source": [
    "for i, val in df.iterrows():\n",
    "    p = p_norm(val['height'])\n",
    "    if n * p < 10: print('critical interval:', i)"
   ]
  },
  {
   "cell_type": "markdown",
   "metadata": {},
   "source": [
    "Now there is no interval with $np_i<10$"
   ]
  },
  {
   "cell_type": "markdown",
   "metadata": {},
   "source": [
    "Critical area for the right-tail case $\\overline{G} = [\\chi^2_{cr}, +\\infty]$"
   ]
  },
  {
   "cell_type": "markdown",
   "metadata": {},
   "source": [
    "Critical values for the right-tail case \n",
    "\n",
    "$[1 - \\chi^2(\\chi^2_{cr}, m-r-1) = 1 - \\chi^2(\\chi^2_{cr}, 11-2-1) = 1 - \\chi^2(\\chi^2_{\\alpha}, 8) = 0.95]$ \n",
    "\n",
    "(the number of intervals decreased by 4 after the union)\n",
    "\n",
    "$\\Rightarrow \\chi^2_{cr} = \\chi^2_{0.05, 8} = 15.51$"
   ]
  },
  {
   "cell_type": "markdown",
   "metadata": {},
   "source": [
    "Calculation:"
   ]
  },
  {
   "cell_type": "code",
   "execution_count": 23,
   "metadata": {},
   "outputs": [
    {
     "data": {
      "text/plain": [
       "2.73"
      ]
     },
     "execution_count": 23,
     "metadata": {},
     "output_type": "execute_result"
    }
   ],
   "source": [
    "chi2 = 0\n",
    "for i, val in df.iterrows():\n",
    "    p = p_norm(val['height'])\n",
    "    chi2 += (val['mens'] - n * p) ** 2 / (n * p)\n",
    "round(chi2, 2)"
   ]
  },
  {
   "cell_type": "markdown",
   "metadata": {},
   "source": [
    "$\\chi^2 = 2.73$"
   ]
  },
  {
   "cell_type": "markdown",
   "metadata": {},
   "source": [
    "$\\chi^2 \\notin \\overline{G}$ so we assept $H_0$"
   ]
  },
  {
   "cell_type": "markdown",
   "metadata": {},
   "source": [
    "**Task 3. According to the census of Sweden in 1936, a sample of $25,263$ couples who married during 1931-1936 was obtained from the aggregate of all married couples. The table shows the distribution of the annual income and the number of children of the married couples in this sample.**"
   ]
  },
  {
   "cell_type": "markdown",
   "metadata": {},
   "source": [
    "<img src='2019-10-14_02-06-10.png' align='left' width=600>"
   ]
  },
  {
   "cell_type": "markdown",
   "metadata": {},
   "source": [
    "**$X$ – the number of children in a married couple**\n",
    "\n",
    "**$Y$ – the annual income in a married couple**\n",
    "\n",
    "**Using the contingency table tests procedure based on the chi-square distribution and considering the $\\alpha=0.05$, test:**\n",
    "\n",
    "**$H_0 : X$ is independent of $Y$**\n",
    "\n",
    "**$H_1:X$ depends on $Y$**"
   ]
  },
  {
   "cell_type": "markdown",
   "metadata": {},
   "source": [
    "Test statistic:"
   ]
  },
  {
   "cell_type": "markdown",
   "metadata": {},
   "source": [
    "$$\\chi^2 = \\sum_{i=1}^n\\sum_{j=1}^m \\left( \\frac{(v_{ij} - (v_i v_j)/n)^2}{(v_i v_j)/n} \\right) \\sim \\chi^2\\left((n_1 - 1) \\cdot (n_2 - 1)\\right)$$"
   ]
  },
  {
   "cell_type": "markdown",
   "metadata": {},
   "source": [
    "Checking intervals:"
   ]
  },
  {
   "cell_type": "code",
   "execution_count": 24,
   "metadata": {},
   "outputs": [],
   "source": [
    "import numpy as np"
   ]
  },
  {
   "cell_type": "code",
   "execution_count": 25,
   "metadata": {},
   "outputs": [],
   "source": [
    "data = np.matrix([\n",
    "    [2161, 3577, 2184, 1636],\n",
    "    [2755, 5081, 2222, 1052],\n",
    "    [936, 1753, 640, 306],\n",
    "    [225, 419, 96, 38],\n",
    "    [39, 98, 31, 14]])"
   ]
  },
  {
   "cell_type": "code",
   "execution_count": 26,
   "metadata": {},
   "outputs": [
    {
     "data": {
      "text/plain": [
       "25263"
      ]
     },
     "execution_count": 26,
     "metadata": {},
     "output_type": "execute_result"
    }
   ],
   "source": [
    "n = data.sum()\n",
    "n"
   ]
  },
  {
   "cell_type": "markdown",
   "metadata": {},
   "source": [
    "$n = 25,264$"
   ]
  },
  {
   "cell_type": "code",
   "execution_count": 27,
   "metadata": {},
   "outputs": [],
   "source": [
    "for i in range(data.shape[0]):\n",
    "    for j in range(data.shape[1]):\n",
    "        if data[i].sum() * data[:, j].sum() / n < 10:\n",
    "            print('critical interval:', i, j)"
   ]
  },
  {
   "cell_type": "markdown",
   "metadata": {},
   "source": [
    "There is no interval $(v_i v_j) / n < 10$, so we do not need to do the union."
   ]
  },
  {
   "cell_type": "markdown",
   "metadata": {},
   "source": [
    "Critical area for the right-tail case $\\overline{G} = [\\chi^2_{cr}, +\\infty]$"
   ]
  },
  {
   "cell_type": "markdown",
   "metadata": {},
   "source": [
    "Critical values for the right-tail case $[1 - \\chi^2(\\chi^2_{cr}, (n_1-1)\\cdot(n_2-1)) = 1 - \\chi^2(\\chi^2_{cr}, (4-1)\\cdot(5-1)) = 1 - \\chi^2(\\chi^2_{\\alpha}, 12) = 0.95]$\n",
    "\n",
    "$\\Rightarrow \\chi^2_{cr} = \\chi^2_{0.05, 12} = 21.03$"
   ]
  },
  {
   "cell_type": "markdown",
   "metadata": {},
   "source": [
    "Calculating:"
   ]
  },
  {
   "cell_type": "code",
   "execution_count": 28,
   "metadata": {},
   "outputs": [
    {
     "data": {
      "text/plain": [
       "568.57"
      ]
     },
     "execution_count": 28,
     "metadata": {},
     "output_type": "execute_result"
    }
   ],
   "source": [
    "chi2 = 0\n",
    "for i in range(data.shape[0]):\n",
    "    for j in range(data.shape[1]):\n",
    "        chi2 += (\n",
    "            (data[i, j] - data[i].sum() * data[:, j].sum() / n) ** 2 \n",
    "            / \n",
    "            (data[i].sum() * data[:, j].sum() / n)\n",
    "        )\n",
    "round(chi2, 2)"
   ]
  },
  {
   "cell_type": "markdown",
   "metadata": {},
   "source": [
    "$\\chi^2 = 568.57$"
   ]
  },
  {
   "cell_type": "markdown",
   "metadata": {},
   "source": [
    "$\\chi^2 \\in \\overline{G}$ so we reject $H_0$"
   ]
  },
  {
   "cell_type": "markdown",
   "metadata": {},
   "source": [
    "**Task 4. The table shows the income distribution of all industrial workers and employees of Sweden in 1930 for the age groups of 40-50 years and 50-60 years**"
   ]
  },
  {
   "cell_type": "markdown",
   "metadata": {},
   "source": [
    "<img src='2019-10-14_04-09-33.png' align='left' width=600>"
   ]
  },
  {
   "cell_type": "markdown",
   "metadata": {},
   "source": [
    "**$X$ – the income of the industrial workers and employees 40-50 years**\n",
    "\n",
    "**$Y$ – the income of the industrial workers and employees 50-60 years**\n",
    "\n",
    "**Using the contingency table tests procedure based on the chi-square distribution and considering the $\\alpha=0.05$, test:**\n",
    "\n",
    "**$H_0 : X$ is independent of $Y$**\n",
    "\n",
    "**$H_1 : X$ depends on $Y$**"
   ]
  },
  {
   "cell_type": "markdown",
   "metadata": {},
   "source": [
    "I do not know how to check the independence between $X$ and $Y$, so i change the hypotheses"
   ]
  },
  {
   "cell_type": "markdown",
   "metadata": {},
   "source": [
    "**$H_0 : X$ and $Y$ are homogeneous**\n",
    "\n",
    "**$H_1 : X$ and $Y$ are not homogeneous**"
   ]
  },
  {
   "cell_type": "markdown",
   "metadata": {},
   "source": [
    "Test statistic:"
   ]
  },
  {
   "cell_type": "markdown",
   "metadata": {},
   "source": [
    "$$\\chi^2 = n_1 \\cdot n_2 \\sum_{i=l}^n \\frac{1}{v_{1i} + v_{2i}} \\left( \\frac{v_{1i}}{n_1} - \\frac{v_{2i}}{n_2} \\right)^2 \\sim \n",
    "\\chi^2\\left((s - 1) \\cdot (l - 1)\\right)$$ \n",
    "where $s$ — the number of groups (2), $l$ — the number of intervals, $v_{ij}$ — the number of observations in the $i$-th group and the $j$-th interval, $n_i$ - the number of observations in the $i$-th group"
   ]
  },
  {
   "cell_type": "markdown",
   "metadata": {},
   "source": [
    "Critical area for the right-tail case $\\overline{G} = [\\chi^2_{cr}, +\\infty]$"
   ]
  },
  {
   "cell_type": "markdown",
   "metadata": {},
   "source": [
    "Critical values for the right-tail case $[1 - \\chi^2(\\chi^2_{cr}, (s-1)\\cdot(l-1)) = 1 - \\chi^2(\\chi^2_{cr}, (2-1)\\cdot(6-1)) = 1 - \\chi^2(\\chi^2_{\\alpha}, 5) = 0.95]$\n",
    "\n",
    "$\\Rightarrow \\chi^2_{cr} = \\chi^2_{0.05, 5} = 11.07$"
   ]
  },
  {
   "cell_type": "markdown",
   "metadata": {},
   "source": [
    "Calculating:"
   ]
  },
  {
   "cell_type": "code",
   "execution_count": 32,
   "metadata": {},
   "outputs": [],
   "source": [
    "df = pd.DataFrame({\n",
    "    'group_40': [7831, 26740, 35572, 20009, 11527, 6919],\n",
    "    'group_50': [7558, 20685, 24186, 12280, 6776, 4222]})"
   ]
  },
  {
   "cell_type": "code",
   "execution_count": 41,
   "metadata": {},
   "outputs": [
    {
     "data": {
      "text/plain": [
       "840.62"
      ]
     },
     "execution_count": 41,
     "metadata": {},
     "output_type": "execute_result"
    }
   ],
   "source": [
    "chi2 = 0\n",
    "group_40sum = df['group_40'].sum()\n",
    "group_50sum = df['group_50'].sum()\n",
    "for i, val in df.iterrows():\n",
    "    chi2 += (\n",
    "        (val['group_40'] / group_40sum - val['group_50'] / group_50sum) ** 2 \n",
    "        / \n",
    "        (val['group_40'] + val['group_50'])\n",
    "    )\n",
    "chi2 *= group_40sum * group_50sum\n",
    "round(chi2, 2)"
   ]
  },
  {
   "cell_type": "markdown",
   "metadata": {},
   "source": [
    "$\\chi^2 = 840.62$"
   ]
  },
  {
   "cell_type": "markdown",
   "metadata": {},
   "source": [
    "$\\chi^2 \\in \\overline{G}$ so we reject $H_0$"
   ]
  },
  {
   "cell_type": "markdown",
   "metadata": {},
   "source": [
    "**Task 5. Suppose that 10 sets of hypotheses of the form**\n",
    "\n",
    "**$H_0: \\mu_X = \\mu_0$** (const)\n",
    "\n",
    "**$H_1: \\mu_X \\neq \\mu_0$** (const)\n",
    "\n",
    "**have been tested and that the P-values for these tests are 0.12, 0.08. 0.93, 0.02, 0.01, 0.05, 0.88, 0.15, 0.13, and 0.06. Use Fisher’s procedure to combine all of these P-values. What conclusions can you draw about these hypotheses?**"
   ]
  },
  {
   "cell_type": "markdown",
   "metadata": {},
   "source": [
    "$\\chi^2=-2\\sum_{i=1}^k \\ln p_i \\sim \\chi^2(2k)$ "
   ]
  },
  {
   "cell_type": "markdown",
   "metadata": {},
   "source": [
    "Critical area for the right-tail case $\\overline{G} = [\\chi^2_{cr}, +\\infty]$"
   ]
  },
  {
   "cell_type": "markdown",
   "metadata": {},
   "source": [
    "Critical values for the right-tail case $[1 - \\chi^2(\\chi^2_{cr}, 2k) = 1 - \\chi^2(\\chi^2_{cr}, 2\\cdot10) = 1 - \\chi^2(\\chi^2_{\\alpha}, 20) = 0.95]$\n",
    "\n",
    "$\\Rightarrow \\chi^2_{cr} = \\chi^2_{0.05, 20} = 18.31$"
   ]
  },
  {
   "cell_type": "code",
   "execution_count": 1,
   "metadata": {},
   "outputs": [],
   "source": [
    "p_values = [0.12, 0.08, 0.93, 0.02, 0.01, 0.05, 0.88, 0.15, 0.06]"
   ]
  },
  {
   "cell_type": "code",
   "execution_count": 4,
   "metadata": {},
   "outputs": [
    {
     "data": {
      "text/plain": [
       "42.14"
      ]
     },
     "execution_count": 4,
     "metadata": {},
     "output_type": "execute_result"
    }
   ],
   "source": [
    "chi2 = 0\n",
    "for i in p_values:\n",
    "    chi2 += math.log(i)\n",
    "chi2 *= -2\n",
    "round(chi2, 2)"
   ]
  },
  {
   "cell_type": "markdown",
   "metadata": {},
   "source": [
    "$\\chi^2 = 42.14$"
   ]
  },
  {
   "cell_type": "markdown",
   "metadata": {},
   "source": [
    "$\\chi^2 \\in \\overline{G}$ so we reject $H_0$"
   ]
  }
 ],
 "metadata": {
  "kernelspec": {
   "display_name": "Python 3",
   "language": "python",
   "name": "python3"
  },
  "language_info": {
   "codemirror_mode": {
    "name": "ipython",
    "version": 3
   },
   "file_extension": ".py",
   "mimetype": "text/x-python",
   "name": "python",
   "nbconvert_exporter": "python",
   "pygments_lexer": "ipython3",
   "version": "3.7.1"
  }
 },
 "nbformat": 4,
 "nbformat_minor": 2
}
