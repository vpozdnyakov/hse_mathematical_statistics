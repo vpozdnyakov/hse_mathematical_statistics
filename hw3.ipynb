{
 "cells": [
  {
   "cell_type": "markdown",
   "metadata": {},
   "source": [
    "# Probability Theory and Mathematical Statistics"
   ]
  },
  {
   "cell_type": "markdown",
   "metadata": {},
   "source": [
    "## Homework 3, Vitaliy Pozdnyakov"
   ]
  },
  {
   "cell_type": "markdown",
   "metadata": {},
   "source": [
    "___"
   ]
  },
  {
   "cell_type": "markdown",
   "metadata": {},
   "source": [
    "### Part 1"
   ]
  },
  {
   "cell_type": "markdown",
   "metadata": {},
   "source": [
    "**1. Let $X \\sim Pois(a)$, where a is unknown. Apply the maximal likelihood method to estimate $a$.**"
   ]
  },
  {
   "cell_type": "markdown",
   "metadata": {},
   "source": [
    "$L(x_1, \\dots, x_n, a) = \\prod_{i=1}^{n}\\frac{a^{x_i}e^{-a}}{x_i!}$"
   ]
  },
  {
   "cell_type": "markdown",
   "metadata": {},
   "source": [
    "$\\ln L = \\sum_{i=1}^{n} \\ln \\frac{a^{x_i} e^{-a}}{x_i!} = \\sum_{i=1}^{n} \\left(\\ln{a^{x_i}} - \\ln{x_i!} + \\ln{e^{-a}}\\right) = \\sum_{i=1}^{n} \\left(x_i\\ln{a} - \\ln{x_i!} - a\\right)$"
   ]
  },
  {
   "cell_type": "markdown",
   "metadata": {},
   "source": [
    "$\\frac{\\partial \\ln L}{\\partial a} = \\sum_{i=1}^{n} \\left(\\frac{x_i}{a} - 1\\right) = \\frac{1}{a} \\sum_{i=1}^{n} x_i - \\sum_{i=1}^{n} 1 = \\frac{1}{a} \\sum_{i=1}^{n} x_i - n = 0$"
   ]
  },
  {
   "cell_type": "markdown",
   "metadata": {},
   "source": [
    "$a = \\frac{\\sum x_i}{n} = \\overline{X}$"
   ]
  },
  {
   "cell_type": "markdown",
   "metadata": {},
   "source": [
    "**2. Let $X \\sim Bi(1,p)$, where $p$ is unknown. Apply the maximal likelihood method to estimate $p$.**"
   ]
  },
  {
   "cell_type": "markdown",
   "metadata": {},
   "source": [
    "$X \\sim Bi(1, p) = \\text{Bernoulli}(p)$"
   ]
  },
  {
   "cell_type": "markdown",
   "metadata": {},
   "source": [
    "$L(x_1, \\dots, x_n, p) = p^m (1-p)^{n-m}$, where $m$ is the number of attempts with $x_i=1$"
   ]
  },
  {
   "cell_type": "markdown",
   "metadata": {},
   "source": [
    "$\\ln{L} = m\\ln{p} + (n-m)\\ln{(1-p)}$"
   ]
  },
  {
   "cell_type": "markdown",
   "metadata": {},
   "source": [
    "$\\frac{\\partial \\ln L}{\\partial p} = \\frac{m}{p}-\\frac{n-m}{1-p} = 0$"
   ]
  },
  {
   "cell_type": "markdown",
   "metadata": {},
   "source": [
    "$p = \\frac{m}{n}$"
   ]
  },
  {
   "cell_type": "markdown",
   "metadata": {},
   "source": [
    "**4. Let $X \\sim U(a, b)$, where $a$ and $b$ are unknown. Apply the maximal likelihood method to estimate $a$ and $b$.**"
   ]
  },
  {
   "cell_type": "markdown",
   "metadata": {},
   "source": [
    "Let $I$ be an indicator:\n",
    "\n",
    "$I(\\text{requirement}) = \\begin{cases} 1 \\text{ if satisfiable} \\\\ 0 \\text{ otherwise} \\end{cases}$"
   ]
  },
  {
   "cell_type": "markdown",
   "metadata": {},
   "source": [
    "$L(x_1, \\dots, x_n, a, b) = \n",
    "(b-a)^{-n} \\prod_{i=1}^n I(a \\leq x_i \\leq b) = (b-a)^{-n} I(a \\leq x_{\\min}) I(x_{\\max} \\leq b)$ \n",
    "\n",
    "where $x_{\\min} = \\min(x_1, \\dots, x_n)$ and $x_{\\max} = \\max(x_1, \\dots, x_n)$"
   ]
  },
  {
   "cell_type": "markdown",
   "metadata": {},
   "source": [
    "Thereby if $a$ or $b$ $\\in (x_\\min, x_\\max)$ then $L = 0$"
   ]
  },
  {
   "cell_type": "markdown",
   "metadata": {},
   "source": [
    "On the other hand, if $(b-a)$ will be increasing, then L will be decreasing."
   ]
  },
  {
   "cell_type": "markdown",
   "metadata": {},
   "source": [
    "Consequently $\\max L = (x_\\max - x_\\min)^{-n} \\Rightarrow b = x_\\max$ and $a = x_\\min$"
   ]
  },
  {
   "cell_type": "markdown",
   "metadata": {},
   "source": [
    "___"
   ]
  },
  {
   "cell_type": "markdown",
   "metadata": {},
   "source": [
    "## Part 2"
   ]
  },
  {
   "cell_type": "markdown",
   "metadata": {},
   "source": [
    "**1. Let $X\\sim N(\\mu, \\sigma^2)$, where $\\mu$ and $\\sigma^2$ are unknown. Apply the method of moments to estimate $\\mu$ and $\\sigma^2$.**"
   ]
  },
  {
   "cell_type": "markdown",
   "metadata": {},
   "source": [
    "$\\nu_1 =\\int_{-\\infty}^{+\\infty} x^1 \\frac{1}{\\sqrt{2 \\pi \\sigma^2}} e^{-\\frac{(x - \\mu)^2}{2\\sigma^2}} dx = \\mu$ — the first theoretical raw moment"
   ]
  },
  {
   "cell_type": "markdown",
   "metadata": {},
   "source": [
    "$\\mu_2 = \\int_{-\\infty}^{+\\infty} (x-\\mu)^2 \\frac{1}{\\sqrt{2 \\pi \\sigma^2}} e^{-\\frac{(x - \\mu)^2}{2\\sigma^2}} d x  = \\sigma^2$ — the second theoretical central moment"
   ]
  },
  {
   "cell_type": "markdown",
   "metadata": {},
   "source": [
    "$\\tilde\\nu_1 = \\frac{\\sum x_i^1}{n} = \\overline{X}$ — the first empirical raw moment "
   ]
  },
  {
   "cell_type": "markdown",
   "metadata": {},
   "source": [
    "$\\tilde\\mu_2 = \\frac{\\sum (x_i - \\overline{x})^2}{n} = s^2$ — the second empirical central moment "
   ]
  },
  {
   "cell_type": "markdown",
   "metadata": {},
   "source": [
    "Thereby $\\mu = \\overline{X}$ and $\\sigma^2 = s^2$"
   ]
  },
  {
   "cell_type": "markdown",
   "metadata": {},
   "source": [
    "**2. Let $X\\sim U(a, b)$, where $a$ and $b$ are unknown. Apply the method of moments to estimate $a$ and $b$.**"
   ]
  },
  {
   "cell_type": "markdown",
   "metadata": {},
   "source": [
    "$\\nu_1 =\\int_{a}^{b} x^1 \\frac{b-a}{2} dx = \\frac{1}{2}(b+a)$ — the first theoretical raw moment"
   ]
  },
  {
   "cell_type": "markdown",
   "metadata": {},
   "source": [
    "$\\nu_3 =\\int_{a}^{b} x^3 \\frac{b-a}{2} dx = \\frac{1}{3}(a^2 + ab + b^2)$ — the third theoretical raw moment"
   ]
  },
  {
   "cell_type": "markdown",
   "metadata": {},
   "source": [
    "$\\tilde\\nu_1 = \\frac{\\sum x_i^1}{n} = \\overline{X}$ — the first empirical raw moment "
   ]
  },
  {
   "cell_type": "markdown",
   "metadata": {},
   "source": [
    "$\\tilde\\nu_3 = \\frac{\\sum x_i^3}{n} = \\overline{X^2} = s^2 + \\overline{X}^2$ — the third empirical raw moment "
   ]
  },
  {
   "cell_type": "markdown",
   "metadata": {},
   "source": [
    "$\\begin{cases}\n",
    "\\frac{1}{2}(b+a) = \\overline{X} \\\\\n",
    "\\frac{1}{3}(a^2+ab+b^2) = s^2 + \\overline{X}^2\n",
    "\\end{cases}$"
   ]
  },
  {
   "cell_type": "markdown",
   "metadata": {},
   "source": [
    "Let the solution be $a = \\overline{X} - \\sqrt{3}s$ and $b = \\overline{X} + \\sqrt{3}s$ and check:"
   ]
  },
  {
   "cell_type": "markdown",
   "metadata": {},
   "source": [
    "$\\begin{cases}\n",
    "\\frac{1}{2}(b + a) = \\overline{X} \\\\\n",
    "\\frac{1}{3}(a^2+ab+b^2) = s^2 + \\overline{X}^2\n",
    "\\end{cases} \n",
    "\\Rightarrow\n",
    "\\begin{cases}\n",
    "\\frac{1}{2}(\\overline{X} - \\sqrt{3}s + \\overline{X} + \\sqrt{3}s) = \\overline{X} \\\\\n",
    "\\frac{1}{3}((\\overline{X} - \\sqrt{3}s)^2+(\\overline{X} - \\sqrt{3}s)(\\overline{X} + \\sqrt{3}s)+(\\overline{X} + \\sqrt{3}s)^2) = s^2 + \\overline{X}^2\n",
    "\\end{cases} \n",
    "$"
   ]
  },
  {
   "cell_type": "markdown",
   "metadata": {},
   "source": [
    "$\\Rightarrow\n",
    "\\begin{cases}\n",
    "\\overline{X} = \\overline{X} \\\\\n",
    "\\frac{1}{3}(\\overline{X}^2 - 2\\sqrt{3}s\\overline{X} + 3s^2 + \\overline{X}^2 - 3s^2 + \\overline{X}^2 + 2\\sqrt{3}s\\overline{X} + 3s^2 = s^2 + \\overline{X}^2\n",
    "\\end{cases} \n",
    "$"
   ]
  },
  {
   "cell_type": "markdown",
   "metadata": {},
   "source": [
    "$\\Rightarrow\n",
    "\\begin{cases}\n",
    "\\overline{X} = \\overline{X} \\\\\n",
    "\\frac{1}{3}(3\\overline{X}^2 + 3s^2) = s^2 + \\overline{X}^2\n",
    "\\end{cases} \\Rightarrow\n",
    "\\begin{cases}\n",
    "\\overline{X} = \\overline{X} \\\\\n",
    "s^2 + \\overline{X}^2 = s^2 + \\overline{X}^2\n",
    "\\end{cases} \n",
    "$"
   ]
  },
  {
   "cell_type": "markdown",
   "metadata": {},
   "source": [
    "Thereby $a = \\overline{X} - \\sqrt{3}s$, $b = \\overline{X} + \\sqrt{3}s$"
   ]
  },
  {
   "cell_type": "markdown",
   "metadata": {},
   "source": [
    "___"
   ]
  },
  {
   "cell_type": "markdown",
   "metadata": {},
   "source": [
    "## Part 3"
   ]
  },
  {
   "cell_type": "markdown",
   "metadata": {},
   "source": [
    "**1. In the city of Perm there are two hospitals. $1000$ babies were born in the first maternity hospital and $500$ were born in the second hospital during the summer. Let the probability of babies born male be equal to $50\\%$.**\n",
    "    \n",
    "* **a. What are the probabilities:**\n",
    "    \n",
    "    * **i. The first hospital has $> 45\\%$ of male babies;**"
   ]
  },
  {
   "cell_type": "markdown",
   "metadata": {},
   "source": [
    "$X \\sim \\text{Bernoulli}(p)$, where $p = 0.5$"
   ]
  },
  {
   "cell_type": "markdown",
   "metadata": {},
   "source": [
    "$n_1$ = 1000"
   ]
  },
  {
   "cell_type": "markdown",
   "metadata": {},
   "source": [
    "Via De Moivre–Laplace theorem:"
   ]
  },
  {
   "cell_type": "markdown",
   "metadata": {},
   "source": [
    "$P(a \\leq \\frac{m}{n} \\leq b) \\approx \\frac{1}{2}[\\Phi(z_2) - \\Phi(z_1)]$ where $a$ is the left bound, $b$ is the right bound, $z_1 = \\frac{a-p}{\\sqrt{pq/n_1}}$, $z_2 = \\frac{b-p}{\\sqrt{pq/n_1}}$, and $\\Phi$ is the Laplace function $\\Phi(x) = \\frac{2}{\\sqrt{2 \\pi}}\\int_0^x e^\\frac{-t^2}{2} dt$"
   ]
  },
  {
   "cell_type": "markdown",
   "metadata": {},
   "source": [
    "$z_1 = \\frac{0.45 - 0.5}{\\sqrt{0.5 \\cdot 0.5 / 1000}} \\approx -3.16$ ;\n",
    "$z_2 = \\frac{1 - 0.5}{\\sqrt{0.5 \\cdot 0.5 / 1000}} \\approx 31.62$"
   ]
  },
  {
   "cell_type": "markdown",
   "metadata": {},
   "source": [
    "$P_1(0.45 \\leq \\frac{m}{n} \\leq 1) \\approx \\frac{1}{2}[\\Phi(31.62) - \\Phi(-3.16)] = \\frac{1}{2}[\\Phi(31.62) + \\Phi(3.16)] = \\frac{1}{2}[1 + 0.9984] = 0.9992$"
   ]
  },
  {
   "cell_type": "markdown",
   "metadata": {},
   "source": [
    "* **ii. The second hospital has $> 45\\%$ of male babies.**"
   ]
  },
  {
   "cell_type": "markdown",
   "metadata": {},
   "source": [
    "$n_2 = 500$"
   ]
  },
  {
   "cell_type": "markdown",
   "metadata": {},
   "source": [
    "$z_1 = \\frac{0.45 - 0.5}{\\sqrt{0.5 \\cdot 0.5 / 500}} \\approx -2.24$ ;\n",
    "$z_2 = \\frac{1 - 0.5}{\\sqrt{0.5 \\cdot 0.5 / 500}} \\approx 22.36$"
   ]
  },
  {
   "cell_type": "markdown",
   "metadata": {},
   "source": [
    "$P_2(0.45 \\leq \\frac{m}{n} \\leq 1) \\approx \\frac{1}{2}[\\Phi(22.36) - \\Phi(-2.24)] = \\frac{1}{2}[\\Phi(22.36) + \\Phi(2.24)] \\approx \\frac{1}{2}[1 + 0.9749] \\approx 0.9875$"
   ]
  },
  {
   "cell_type": "markdown",
   "metadata": {},
   "source": [
    "* **b. Compare these probabilities and explain.**"
   ]
  },
  {
   "cell_type": "markdown",
   "metadata": {},
   "source": [
    "We have the RV $X = \\frac{X_1 + \\dots + X_n}{n}$ with the mean \n",
    "\n",
    "$M(X) = M(\\frac{X_1 + \\dots + X_n}{n}) = \\frac{1}{n}nM(X_i) = M(X_i) = \\mu$ independs of $n$"
   ]
  },
  {
   "cell_type": "markdown",
   "metadata": {},
   "source": [
    "But the variance\n",
    "\n",
    "$D(X) = D(\\frac{X_1 + \\dots + X_n}{n}) = \\frac{1}{n^2}nD(X_i) = \\frac{D(X_i)}{n} = \\frac{\\sigma^2}{n}$ depends on $n$"
   ]
  },
  {
   "cell_type": "markdown",
   "metadata": {},
   "source": [
    "Hence, an increase of $n$ leads to a decrease of $D(X)$ and values concentrate around of the mean and $P_1 > P_2$"
   ]
  },
  {
   "cell_type": "markdown",
   "metadata": {},
   "source": [
    "* **c. Now imagine the situation that $515$ male babies were born in the first maternity hospital. $240$ male babies were born in the second maternity hospital. Is the difference statistically significant?**"
   ]
  },
  {
   "cell_type": "markdown",
   "metadata": {},
   "source": [
    "Let $p_1$ and $p_2$ be a share of birth of boys in the first and second maternity hospitals respectively\n",
    "\n",
    "$H_0: p_1 = p_2 = p$ where $p = 0.5$ and $q=1-p=0.5$\n",
    "\n",
    "$H_1: p_1 \\neq p_2$"
   ]
  },
  {
   "cell_type": "markdown",
   "metadata": {},
   "source": [
    "Significance level $\\alpha = 0.05$"
   ]
  },
  {
   "cell_type": "markdown",
   "metadata": {},
   "source": [
    "We use the z-score for compare of share:"
   ]
  },
  {
   "cell_type": "markdown",
   "metadata": {},
   "source": [
    "$z =\\frac{w_1 - w_2}{\\sqrt{pq\\left( \\frac{1}{n_1} + \\frac{1}{n_2} \\right)}}\\sim N(0,1)$ where $w$ is emperical share"
   ]
  },
  {
   "cell_type": "markdown",
   "metadata": {},
   "source": [
    "Critical area $\\overline{G} = [-\\infty, -z_{cr}] \\cup [z_{cr}, +\\infty]$"
   ]
  },
  {
   "cell_type": "markdown",
   "metadata": {},
   "source": [
    "Critical values $[\\Phi(z_{cr}) = \\Phi(z_{1-\\alpha}) = 0.95] \\Rightarrow z_{cr} = z_{0.95} = 1.96$"
   ]
  },
  {
   "cell_type": "markdown",
   "metadata": {},
   "source": [
    "$z =\\frac{\\frac{515}{1000} - \\frac{240}{500}}{\\sqrt{0.5 \\cdot 0.5 \\left( \\frac{1}{1000} + \\frac{1}{500} \\right)}} \\approx 1.28 $"
   ]
  },
  {
   "cell_type": "markdown",
   "metadata": {},
   "source": [
    "$\\text{P-value} = P(p\\in [-\\infty, -1.28] \\cup [1.28, +\\infty]) = 1 - \\Phi(1.28) = 1 - 0.7984 = 0.2016 > \\alpha$"
   ]
  },
  {
   "cell_type": "markdown",
   "metadata": {},
   "source": [
    "$z \\notin \\overline{G}$ thereby accept $H_0$"
   ]
  },
  {
   "cell_type": "markdown",
   "metadata": {},
   "source": [
    "Answer: the difference is not statistically significant"
   ]
  },
  {
   "cell_type": "markdown",
   "metadata": {},
   "source": [
    " "
   ]
  },
  {
   "cell_type": "markdown",
   "metadata": {},
   "source": [
    "**2. A group of people want to prove that less than half of all voters support the President's policies about managing the financial crisis. Let $v$ be a share of voters who support the president’s policies. What is $H_1$ and $H_0$ with $\\alpha = 0.05$? A recent poll showed that $228$ out of $500$ voters support the president’s policies. Test the hypothesis with $\\alpha = 0.05$. Find the P-value and explain the results.**"
   ]
  },
  {
   "cell_type": "markdown",
   "metadata": {},
   "source": [
    "Let $p = v$"
   ]
  },
  {
   "cell_type": "markdown",
   "metadata": {},
   "source": [
    "$H_0: p = p_0 = 0.5$ and $q = 1-p = 0.5$\n",
    "\n",
    "$H_1: p < 0.5$"
   ]
  },
  {
   "cell_type": "markdown",
   "metadata": {},
   "source": [
    "Significance level $\\alpha = 0.05$"
   ]
  },
  {
   "cell_type": "markdown",
   "metadata": {},
   "source": [
    "We use the z-score for a share:"
   ]
  },
  {
   "cell_type": "markdown",
   "metadata": {},
   "source": [
    "$z = \\frac{(w-p_0)\\sqrt{n}}{\\sqrt{pq}}\\sim N(0,1)$"
   ]
  },
  {
   "cell_type": "markdown",
   "metadata": {},
   "source": [
    "Critical area for the left-tail case $\\overline{G} = [-\\infty, z_{cr}]$"
   ]
  },
  {
   "cell_type": "markdown",
   "metadata": {},
   "source": [
    "Critical value for the left-tail case $\\left[ \\Phi(z_{cr}) = \\Phi(z_{1-2\\alpha}) = 0.9 \\right] \\Rightarrow z_{cr} = z_{0.9} = -1.64$"
   ]
  },
  {
   "cell_type": "markdown",
   "metadata": {},
   "source": [
    "$z = \\frac{(\\frac{228}{500}-0.5)\\sqrt{500}}{\\sqrt{0.5\\cdot 0.5}} \\approx -1.97$"
   ]
  },
  {
   "cell_type": "markdown",
   "metadata": {},
   "source": [
    "$\\text{P-value} = P(z\\in[-\\infty, -1.97]) = \\frac{1 - \\Phi(-1.97)}{2} = \\frac{1 - 0.9512}{2} = 0.0244 < \\alpha = 0.05$"
   ]
  },
  {
   "cell_type": "markdown",
   "metadata": {},
   "source": [
    "$z \\in \\overline{G}$ thereby reject $H_0$"
   ]
  },
  {
   "cell_type": "markdown",
   "metadata": {},
   "source": [
    "Thereby the fact that less than half of all voters support the President's policies is statistically significant."
   ]
  }
 ],
 "metadata": {
  "kernelspec": {
   "display_name": "Python 3",
   "language": "python",
   "name": "python3"
  },
  "language_info": {
   "codemirror_mode": {
    "name": "ipython",
    "version": 3
   },
   "file_extension": ".py",
   "mimetype": "text/x-python",
   "name": "python",
   "nbconvert_exporter": "python",
   "pygments_lexer": "ipython3",
   "version": "3.7.1"
  }
 },
 "nbformat": 4,
 "nbformat_minor": 2
}
