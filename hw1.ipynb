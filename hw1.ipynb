{
 "cells": [
  {
   "cell_type": "markdown",
   "metadata": {},
   "source": [
    "# Probability Theory and Mathematical Statistics"
   ]
  },
  {
   "cell_type": "markdown",
   "metadata": {},
   "source": [
    "## Homework 1, Vitaliy Pozdnyakov"
   ]
  },
  {
   "cell_type": "markdown",
   "metadata": {},
   "source": [
    "___"
   ]
  },
  {
   "cell_type": "markdown",
   "metadata": {},
   "source": [
    "### Part 1"
   ]
  },
  {
   "cell_type": "markdown",
   "metadata": {},
   "source": [
    "Prove mathematically via definitions and axioms"
   ]
  },
  {
   "cell_type": "markdown",
   "metadata": {},
   "source": [
    "**1. Let P(A) = P(B) = ½. Is it true that P(A|B) = P(B|A)?**"
   ]
  },
  {
   "cell_type": "markdown",
   "metadata": {},
   "source": [
    "$P(A|B) = \\frac{P(AB)}{P(B)} = 2 \\cdot P(AB)$\n",
    "\n",
    "$P(B|A) = \\frac{P(AB)}{P(A)} = 2 \\cdot P(AB)$\n",
    "\n",
    "$P(A|B) = P(B|A)$\n",
    "\n",
    "Answer: It is true"
   ]
  },
  {
   "cell_type": "markdown",
   "metadata": {},
   "source": [
    "**2. Let $H_1$, $H_2$, $H_3$, $H_4$ be equally probable hypotheses. Are the event $H_1 + H_2$ and the event $H_3 + H_4$ also hypotheses?**"
   ]
  },
  {
   "cell_type": "markdown",
   "metadata": {},
   "source": [
    "$H_1, H_2, H_3, H_4$ do not intersect and do union to $\\Omega$ via definition:\n",
    "\n",
    "$H_1 + H_2 + H_3 + H_4 = \\Omega$\n",
    "\n",
    "Let $H_A = H_1 + H_2$ and $H_B = H_3 + H_4$\n",
    "\n",
    "If $H_1, H_2, H_3, H_4$ do not intersect, then $H_A$ and $H_B$ do not intersect too.\n",
    "\n",
    "$H_A + H_B = \\Omega$ \n",
    "\n",
    "Thereby we got a system of hypotheses\n",
    "\n",
    "Answer: Yes"
   ]
  },
  {
   "cell_type": "markdown",
   "metadata": {},
   "source": [
    "**3. Let P(B) > 0. Prove that P(¬A|B) = 1 - P(A|B)**"
   ]
  },
  {
   "cell_type": "markdown",
   "metadata": {},
   "source": [
    "$P(A|B) + P(\\bar{A}|B) = \\frac{P(AB)}{P(B)} + \\frac{P(\\bar{A} B)}{P(B)} = \\frac{P(A B) + P(\\bar{A} B)}{P(B)} = \\frac{P((A B) + (\\bar{A} B))}{P(B)} = \\frac{P((A + \\bar{A}) B)}{P(B)} = \\frac{P(\\Omega B)}{P(B)} = \\frac{P(B)}{P(B)} = [P(B)>0] = 1$\n",
    "\n",
    "$P(\\bar{A}|B) = 1 - P(A|B)$"
   ]
  },
  {
   "cell_type": "markdown",
   "metadata": {},
   "source": [
    "**4. Let P(C) = ½. Compare the probabilities: P(A+B|C) and P(A|C) and P(B|C)**"
   ]
  },
  {
   "cell_type": "markdown",
   "metadata": {},
   "source": [
    "$P(A|C) = \\frac{P(AC)}{P(C)} = 2 \\cdot P(AC)$\n",
    "\n",
    "$P(B|C) = \\frac{P(BC)}{P(C)} = 2 \\cdot P(BC)$\n",
    "\n",
    "$P(A+B|C) = \\frac{P((A+B)C)}{P(C)} = 2 \\cdot P((A+B)C) = 2P(AC+BC) = 2 (P(AC) + P(BC) - P(ABC)) = 2P(AC) + 2P(BC) - 2P(ABC) = P(A|C) + P(B|C) - 2P(ABC)$\n",
    "\n",
    "$P(ABC) \\leq P(AC)$ and $P(ABC) \\leq P(BC)$, then \n",
    "\n",
    "$2P(ABC) \\leq P(A|C)$ and $2P(ABC) \\leq P(B|C)$\n",
    "\n",
    "And thereby \n",
    "\n",
    "$P(A+B|C) \\geq P(A|C)$\n",
    "\n",
    "$P(A+B|C) \\geq P(B|C)$\n",
    "\n",
    "$P(A|C)$ and $P(B|C)$ are not comparable"
   ]
  },
  {
   "cell_type": "markdown",
   "metadata": {},
   "source": [
    "**5. Let $H_1, H_2, H_3$ be equally probable hypotheses. The event $A = H_1 + H_2$ has been happened. Are the $H_1 + H_2$ and $H_3$ the system of hypotheses?**"
   ]
  },
  {
   "cell_type": "markdown",
   "metadata": {},
   "source": [
    "$H_1, H_2, H_3$ do not intersect and do union to $\\Omega$ via definition:\n",
    "\n",
    "$H_1 + H_2 + H_3 = \\Omega$\n",
    "\n",
    "$A = H_1 + H_2$\n",
    "\n",
    "If $H_1, H_2, H_3$ do not intersect, then $A$ and $H_3$ do not intersect too.\n",
    "\n",
    "$A + H_3 = \\Omega$\n",
    "\n",
    "Thereby we got a system of hypotheses\n",
    "\n",
    "Answer: Yes"
   ]
  },
  {
   "cell_type": "markdown",
   "metadata": {},
   "source": [
    "___"
   ]
  },
  {
   "cell_type": "markdown",
   "metadata": {},
   "source": [
    "### Part 2"
   ]
  },
  {
   "cell_type": "markdown",
   "metadata": {},
   "source": [
    "**1. One card has been randomly picked up from the deck of cards (52 cards). Are the events A and B dependent? A = {the card is ace}, B = {the card is peak suit}**"
   ]
  },
  {
   "cell_type": "markdown",
   "metadata": {},
   "source": [
    "$P(A) = \\frac{4}{52}$\n",
    "\n",
    "$P(B) = \\frac{1}{4}$\n",
    "\n",
    "$P(A|B) = \\frac{P(AB)}{P(B)} = \\frac{\\frac{1}{52}}{\\frac{1}{4}} = \\frac{4}{52} = P(A)$\n",
    "\n",
    "$P(B|A) = \\frac{P(AB)}{P(A)} = \\frac{\\frac{1}{52}}{\\frac{4}{52}} = \\frac{1}{4} = P(B)$\n",
    "\n",
    "Answer: $A$ and $B$ are independent"
   ]
  },
  {
   "cell_type": "markdown",
   "metadata": {},
   "source": [
    "**2. Someone has been found the credit card. What is the probability that the pin-code (4 digits) can bee guessed with two attempts?**"
   ]
  },
  {
   "cell_type": "markdown",
   "metadata": {},
   "source": [
    "Let $A_i$ — successful i-th attempt\n",
    "\n",
    "Find $P(\\bar{A_1}A_2)$\n",
    "\n",
    "$A_1$ and $A_2$ are dependent because after the first failed attempt the number of undefined combinations will change.\n",
    "\n",
    "$\\tilde{A}^4_{10} = 10^4$ - the number of all available combinations, then\n",
    "\n",
    "$P(\\bar{A_1}A_2) =  P(\\bar{A_1}) \\cdot P(A_2|\\bar{A_1})= \\frac{10^4 - 1}{10^4} \\cdot \\frac{1}{10^4-1} = \\frac{1}{10^4}$\n",
    "\n",
    "Answer: $\\frac{1}{10^4}$"
   ]
  },
  {
   "cell_type": "markdown",
   "metadata": {},
   "source": [
    "**3. The average percent of loan default rate is 5%. What is the probability that the problems with loan repayment occur at least 2 times considering that the bank has issued 100 loans?**"
   ]
  },
  {
   "cell_type": "markdown",
   "metadata": {},
   "source": [
    "Let $A_i$ — problems occur i times\n",
    "\n",
    "Find $P(A_2 + A_3 + \\dots + A_{100})$\n",
    "\n",
    "$P(A_2 + A_3 + \\dots + A_{100}) = 1 - P(A_0 + A_1)$\n",
    "\n",
    "$P(A_n) = С^n_{100} \\cdot 0.05^n \\cdot 0.95^{100-n}$ — binomial distribution\n",
    "\n",
    "$P(A_0 + A_1) = P(A_0) + P(A_1) = C^0_{100}0.05^00.95^{100} + C^1_{100}0.05^10.95^{99} = 0.95^{100} + 5 \\cdot 0.95^{99}$"
   ]
  },
  {
   "cell_type": "markdown",
   "metadata": {},
   "source": [
    "$1 - P(A_0 + A_1) = 1 - (0.95^{100} + 5 \\cdot 0.95^{99})$ "
   ]
  },
  {
   "cell_type": "code",
   "execution_count": 2,
   "metadata": {},
   "outputs": [
    {
     "data": {
      "text/plain": [
       "0.962918790672645"
      ]
     },
     "execution_count": 2,
     "metadata": {},
     "output_type": "execute_result"
    }
   ],
   "source": [
    "1 - (0.95**100 + 5 * (0.95**99))"
   ]
  },
  {
   "cell_type": "markdown",
   "metadata": {},
   "source": [
    "Answer: $\\approx 0.96$"
   ]
  },
  {
   "cell_type": "markdown",
   "metadata": {},
   "source": [
    "**4. The retail company has laptops of three manufactures with proportion of 2:5:3. The laptops by Manufacture 1 requires the repair during the warranty period in 15% cases; The laptops by Manufacture 2 requires the repair during the warranty period in 8% cases; The laptops by Manufacture 3 requires the repair during the warranty period in 6% cases. What is the probability that a new laptop received by retail company will require the repair during the warranty period?**"
   ]
  },
  {
   "cell_type": "markdown",
   "metadata": {},
   "source": [
    "Let $A_i$ — received laptop is from Manufacture i, and $B$ – recieved laptop require the repair\n",
    "\n",
    "Find $P(B)$\n",
    "\n",
    "We have\n",
    "\n",
    "$P(A_1) = \\frac{2}{2+5+3} = \\frac{2}{10}$; $P(A_2) = \\frac{5}{10}$; $P(A_2) = \\frac{3}{10}$\n",
    "\n",
    "$P(B|A_1) = 0.15$; $P(B|A_2) = 0.08$; $P(B|A_1) = 0.06$\n",
    "\n",
    "Then\n",
    "\n",
    "$P(B) = P(A_1B) + P(A_2B) + P(A_3B) = P(A_1)P(B|A_1) + P(A_2)P(B|A_2) + P(A_2)P(B|A_2) = \\frac{2}{10}0.15 + \\frac{5}{10}0.08 + \\frac{3}{10}0.06 = \\frac{30}{1000} + \\frac{40}{1000} + \\frac{18}{1000} = \\frac{88}{1000}$ \n",
    "\n",
    "Answer: 0.088"
   ]
  },
  {
   "cell_type": "markdown",
   "metadata": {},
   "source": [
    "**5. After exanimation of a patient the doctor considers diseases C and D with equal probability. To clarify the diagnosis the doctor assign one more test. If the disease is C, so the result of the test is positive in 30% of cases. If the disease is D, so the result of the test is positive in 20% of cases. What disease is more likely?**"
   ]
  },
  {
   "cell_type": "markdown",
   "metadata": {},
   "source": [
    "Let $I$ — the test indicates positive result,\n",
    "\n",
    "$C$ and $D$ — the patient's desease is C and D respectively\n",
    "\n",
    "Suppose that $I$ happended, so find and compare $P(C|I)$ and $P(D|I)$\n",
    "\n",
    "We have\n",
    "\n",
    "$P(C) = P(D) = 0.5$\n",
    "\n",
    "$P(I|C) = 0.3$; $P(I|D) = 0.2$\n",
    "\n",
    "Via Bayes' theorem:\n",
    "\n",
    "$P(C|I) = \\frac{P(I|C)P(C)}{P(I)} = \\frac{0.5 \\cdot 0.3}{P(I)} = \\frac{0.15}{P(I)}$ and\n",
    "\n",
    "$P(D|I) = \\frac{P(I|D)P(D)}{P(I)} = \\frac{0.5 \\cdot 0.2}{P(I)} = \\frac{0.1}{P(I)}$ \n",
    "\n",
    "$\\frac{0.15}{P(I)} > \\frac{0.1}{P(I)} \\Rightarrow P(C|I) > P(D|I)$\n",
    "\n",
    "Answer: Desease $C$ is more likely than desease $D$"
   ]
  }
 ],
 "metadata": {
  "kernelspec": {
   "display_name": "Python 3",
   "language": "python",
   "name": "python3"
  },
  "language_info": {
   "codemirror_mode": {
    "name": "ipython",
    "version": 3
   },
   "file_extension": ".py",
   "mimetype": "text/x-python",
   "name": "python",
   "nbconvert_exporter": "python",
   "pygments_lexer": "ipython3",
   "version": "3.7.1"
  }
 },
 "nbformat": 4,
 "nbformat_minor": 2
}
