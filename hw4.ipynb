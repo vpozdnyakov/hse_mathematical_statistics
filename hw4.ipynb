{
 "cells": [
  {
   "cell_type": "markdown",
   "metadata": {},
   "source": [
    "# Probability Theory and Mathematical Statistics"
   ]
  },
  {
   "cell_type": "markdown",
   "metadata": {},
   "source": [
    "## Homework 4, Vitaliy Pozdnyakov"
   ]
  },
  {
   "cell_type": "markdown",
   "metadata": {},
   "source": [
    "___"
   ]
  },
  {
   "cell_type": "markdown",
   "metadata": {},
   "source": [
    "**Task 1. The table shows the historical data on temperature of January for two cities:**"
   ]
  },
  {
   "cell_type": "markdown",
   "metadata": {},
   "source": [
    "<img src='2019-10-11_15-06-47.png' width=600 align='left'>"
   ]
  },
  {
   "cell_type": "markdown",
   "metadata": {},
   "source": [
    "**Considering significance level $0.05$, test that the mathematical expectation of on temperature of January in City X is $-13.75$ ($H_0: \\mu_X = -13.75$), with alternative hypothesis $H_1: \\mu_X \\neq -13.75$. $X\\sim N(\\mu_X, \\sigma^2)$, where $\\sigma^2$ is unknown.**"
   ]
  },
  {
   "cell_type": "markdown",
   "metadata": {},
   "source": [
    "$\\alpha = 0.05$"
   ]
  },
  {
   "cell_type": "markdown",
   "metadata": {},
   "source": [
    "Let $\\mu_0 = -13.75$"
   ]
  },
  {
   "cell_type": "markdown",
   "metadata": {},
   "source": [
    "We use the t-score for a mean where $\\sigma^2$ is unknown:"
   ]
  },
  {
   "cell_type": "markdown",
   "metadata": {},
   "source": [
    "$t = \\frac{|\\hat\\mu_X - \\mu_0|\\sqrt{n-1}}{\\sqrt{\\hat{\\sigma^2_X}}} \\sim S(n-1)$ where $\\hat{\\sigma^2}$ is the biased sample variance $\\hat{\\sigma^2} = \\frac{\\sum(x_i-\\hat \\mu)^2}{n}$"
   ]
  },
  {
   "cell_type": "markdown",
   "metadata": {},
   "source": [
    "Critical area $\\overline{G} = [-\\infty, -t_{cr}] \\cup [t_{cr}, +\\infty]$"
   ]
  },
  {
   "cell_type": "markdown",
   "metadata": {},
   "source": [
    "Critical values (via the table for a central confidence level) $[S(t_{cr}, n-1) = S(t_{1-\\alpha}, 12) = 0.95] \\Rightarrow t_{cr} = t_{0.95} = 2.18$"
   ]
  },
  {
   "cell_type": "markdown",
   "metadata": {},
   "source": [
    "Calculating of the t-score:"
   ]
  },
  {
   "cell_type": "code",
   "execution_count": 1,
   "metadata": {},
   "outputs": [],
   "source": [
    "import pandas as pd"
   ]
  },
  {
   "cell_type": "code",
   "execution_count": 2,
   "metadata": {},
   "outputs": [],
   "source": [
    "df = pd.DataFrame({\n",
    "    'cityx': [-19.2, -14.8, -19.6, -11.1, -9.4, -16.9, -13.7, -4.9, -13.9, -9.4, -8.3, -7.9, -5.3],\n",
    "    'cityy': [-21.8, -15.4, -20.8, -11.3, -11.6, -19.2, -13.0, -7.4, -15.1, -14.4, -11.1, -10.5, -7.2]})"
   ]
  },
  {
   "cell_type": "code",
   "execution_count": 3,
   "metadata": {},
   "outputs": [
    {
     "data": {
      "text/plain": [
       "-11.88"
      ]
     },
     "execution_count": 3,
     "metadata": {},
     "output_type": "execute_result"
    }
   ],
   "source": [
    "mean = df['cityx'].mean()\n",
    "round(mean, 2)"
   ]
  },
  {
   "cell_type": "code",
   "execution_count": 4,
   "metadata": {},
   "outputs": [
    {
     "data": {
      "text/plain": [
       "22.14"
      ]
     },
     "execution_count": 4,
     "metadata": {},
     "output_type": "execute_result"
    }
   ],
   "source": [
    "round(df['cityx'].var(ddof=0), 2)"
   ]
  },
  {
   "cell_type": "markdown",
   "metadata": {},
   "source": [
    "$t = \\frac{|-11.88 - (-13.75)|\\sqrt{12}}{\\sqrt{22.14}} = 1.38$"
   ]
  },
  {
   "cell_type": "markdown",
   "metadata": {},
   "source": [
    "$t \\notin \\overline{G}$ thereby accept $H_0$"
   ]
  },
  {
   "cell_type": "markdown",
   "metadata": {},
   "source": [
    "**Task 2. Considering significance level $0.05$, test that the variance of on temperature of January in City X is $20$ ($H_0: \\sigma^2 = 20$), with alternative hypothesis $H_1: \\sigma^2 \\neq 20.$ $X\\sim N(\\mu_X, \\sigma^2)$, where $\\mu_X$ is unknown.**"
   ]
  },
  {
   "cell_type": "markdown",
   "metadata": {},
   "source": [
    "$\\alpha=0.05$"
   ]
  },
  {
   "cell_type": "markdown",
   "metadata": {},
   "source": [
    "Let $\\sigma^2_0 = 20$"
   ]
  },
  {
   "cell_type": "markdown",
   "metadata": {},
   "source": [
    "$\\chi^2 = \\frac{n\\hat{\\sigma^2_X}}{\\sigma^2_0} \\sim \\chi^2(n-1)$"
   ]
  },
  {
   "cell_type": "markdown",
   "metadata": {},
   "source": [
    "Critical area $\\overline{G} = [-\\infty, \\chi^2_1] \\cup [\\chi^2_2, +\\infty]$"
   ]
  },
  {
   "cell_type": "markdown",
   "metadata": {},
   "source": [
    "Critical values $[\\chi^2(\\chi^2_1, n-1) - \\chi^2(\\chi^2_2, n-1) = \\chi^2(\\chi^2_{1-\\alpha/2}, n-1) - \\chi^2(\\chi^2_{\\alpha/2}, n-1) = 0.95]$ \n",
    "\n",
    "$\\Rightarrow \\chi^2_1 = \\chi^2_{0.975} = 0.484, \\chi^2_2 = \\chi^2_{0.025} = 23.34$"
   ]
  },
  {
   "cell_type": "markdown",
   "metadata": {},
   "source": [
    "$\\chi^2 = \\frac{13 \\cdot 22.14}{20} = 14.39$"
   ]
  },
  {
   "cell_type": "markdown",
   "metadata": {},
   "source": [
    "$\\chi^2 \\notin \\overline{G}$ thereby assept $H_0$"
   ]
  },
  {
   "cell_type": "markdown",
   "metadata": {},
   "source": [
    "**Task 3. Considering significance level $0.05$, test that the $\\sigma^2_X = \\sigma^2_Y$**"
   ]
  },
  {
   "cell_type": "markdown",
   "metadata": {},
   "source": [
    "$\\alpha=0.05$"
   ]
  },
  {
   "cell_type": "markdown",
   "metadata": {},
   "source": [
    "$H_0: \\sigma^2_X = \\sigma^2_Y$\n",
    "\n",
    "$H_1: \\sigma^2_X \\neq \\sigma^2_Y$"
   ]
  },
  {
   "cell_type": "markdown",
   "metadata": {},
   "source": [
    "$F = \\frac{\\hat{s_X^2}}{\\hat{s_Y^2}} \\sim F(k_1, k_2)$ where $k_1 = n_1 - 1$ and $k_2 = n_2-1$ and $\\hat{s^2}$ is the unbiased sample variance $\\hat{s^2} = \\frac{1}{n-1}\\sum(x_i - \\hat \\mu)^2$"
   ]
  },
  {
   "cell_type": "markdown",
   "metadata": {},
   "source": [
    "Critical area $\\overline{G} = [-\\infty, F_1] \\cup [F_2, +\\infty]$"
   ]
  },
  {
   "cell_type": "markdown",
   "metadata": {},
   "source": [
    "Critical values $[F(F_1, k_1, k_2) - F(F_2, k_1, k_2) = F(F_{1-\\alpha/2}, 12, 12) - F(F_{\\alpha/2}, 12, 12) = 0.95]$\n",
    "\n",
    "$\\Rightarrow F_1 = F_{0.975} = 0.31, F_2 = F_{0.025} = 3.28$"
   ]
  },
  {
   "cell_type": "code",
   "execution_count": 5,
   "metadata": {},
   "outputs": [
    {
     "data": {
      "text/plain": [
       "23.99"
      ]
     },
     "execution_count": 5,
     "metadata": {},
     "output_type": "execute_result"
    }
   ],
   "source": [
    "round(df['cityx'].var(), 2)"
   ]
  },
  {
   "cell_type": "code",
   "execution_count": 6,
   "metadata": {},
   "outputs": [
    {
     "data": {
      "text/plain": [
       "21.76"
      ]
     },
     "execution_count": 6,
     "metadata": {},
     "output_type": "execute_result"
    }
   ],
   "source": [
    "round(df['cityy'].var(), 2)"
   ]
  },
  {
   "cell_type": "markdown",
   "metadata": {},
   "source": [
    "$F = \\frac{23.99}{21.76} = 1.1$"
   ]
  },
  {
   "cell_type": "markdown",
   "metadata": {},
   "source": [
    "$F \\notin \\overline G$ thereby assept $H_0$"
   ]
  },
  {
   "cell_type": "markdown",
   "metadata": {},
   "source": [
    "**Task 4. Considering significance level $0.05$, test that the $\\mu_X = \\mu_Y$**"
   ]
  },
  {
   "cell_type": "markdown",
   "metadata": {},
   "source": [
    "$\\alpha=0.05$"
   ]
  },
  {
   "cell_type": "markdown",
   "metadata": {},
   "source": [
    "$H_0: \\mu_X = \\mu_Y$\n",
    "\n",
    "$H_1: \\mu_X \\neq \\mu_Y$"
   ]
  },
  {
   "cell_type": "markdown",
   "metadata": {},
   "source": [
    "$$t = \\frac{\\hat{\\mu_X} - \\hat{\\mu_Y}}{\\sqrt{\\frac{\\left(\\sum (x_i - \\hat{\\mu_X})^2 + \\sum (y_i - \\hat{\\mu_Y})^2\\right)(n_1 + n_2)}{n_1 n_2 (n_1 + n_2 - 2) }}} \\sim S(n_1 + n_2 - 2)$$"
   ]
  },
  {
   "cell_type": "markdown",
   "metadata": {},
   "source": [
    "Critical area $\\overline{G} = [-\\infty, -t_{cr}] \\cup [t_{cr}, +\\infty]$"
   ]
  },
  {
   "cell_type": "markdown",
   "metadata": {},
   "source": [
    "Critical values (via the table for a central confidence level) $[S(t_{cr}, n_1 + n_2 - 2) = S(t_{1-\\alpha}, 24) = 0.95] \\Rightarrow t_{cr} = t_{0.95} = 2.06$"
   ]
  },
  {
   "cell_type": "code",
   "execution_count": 7,
   "metadata": {},
   "outputs": [
    {
     "data": {
      "text/plain": [
       "-11.88"
      ]
     },
     "execution_count": 7,
     "metadata": {},
     "output_type": "execute_result"
    }
   ],
   "source": [
    "meanx = df['cityx'].mean()\n",
    "round(meanx, 2)"
   ]
  },
  {
   "cell_type": "code",
   "execution_count": 8,
   "metadata": {},
   "outputs": [
    {
     "data": {
      "text/plain": [
       "-13.75"
      ]
     },
     "execution_count": 8,
     "metadata": {},
     "output_type": "execute_result"
    }
   ],
   "source": [
    "meany = df['cityy'].mean()\n",
    "round(meany, 2)"
   ]
  },
  {
   "cell_type": "code",
   "execution_count": 9,
   "metadata": {},
   "outputs": [
    {
     "data": {
      "text/plain": [
       "287.88"
      ]
     },
     "execution_count": 9,
     "metadata": {},
     "output_type": "execute_result"
    }
   ],
   "source": [
    "sumx = 0\n",
    "for i in list(df['cityx']):\n",
    "    sumx += (i - meanx) ** 2\n",
    "round(sumx, 2)"
   ]
  },
  {
   "cell_type": "code",
   "execution_count": 10,
   "metadata": {},
   "outputs": [
    {
     "data": {
      "text/plain": [
       "261.17"
      ]
     },
     "execution_count": 10,
     "metadata": {},
     "output_type": "execute_result"
    }
   ],
   "source": [
    "sumy = 0\n",
    "for i in list(df['cityy']):\n",
    "    sumy += (i - meany) ** 2\n",
    "round(sumy, 2)"
   ]
  },
  {
   "cell_type": "markdown",
   "metadata": {},
   "source": [
    "$t = \\frac{-11.88 - (-13.75)}{\\sqrt{\\frac{(287.88 + 261.17)(13 + 13)}{13 \\cdot 13 (13 + 13 - 2)}}} = 1$"
   ]
  },
  {
   "cell_type": "markdown",
   "metadata": {},
   "source": [
    "$t \\notin \\overline{G}$ thereby accept $H_0$"
   ]
  },
  {
   "cell_type": "markdown",
   "metadata": {},
   "source": [
    "**Task 5. In order to detect the effect of using a special seeder, $10$ plots of land were seeded with an ordinary seeder, and another $10$ plots of land were seeded with a special seeder. There are only two seeders (ordinary and special). The $20$ total plots of land were divided into pairs (ordinary,special) with adjacent sections included in each pair. The question of which of the two adjacent sections should be processed by a special machine was decided by a coin toss. The table shows the differences in yields (harvest) from each pair (ordinary,special) of plots of land. Does using a special seeder give an increase in yield (harvest)?**"
   ]
  },
  {
   "cell_type": "markdown",
   "metadata": {},
   "source": [
    "<img src='2019-10-12_17-11-48.png' align='left' width=500>"
   ]
  },
  {
   "cell_type": "markdown",
   "metadata": {},
   "source": [
    "$\\alpha = 0.05$"
   ]
  },
  {
   "cell_type": "markdown",
   "metadata": {},
   "source": [
    "Let $X = \\frac{\\sum_{i=1}^{10}x_i}{10}$"
   ]
  },
  {
   "cell_type": "markdown",
   "metadata": {},
   "source": [
    "\n",
    "$H_0: X \\sim (\\mu_0, \\sigma^2)$ where $\\mu_0 = 0$\n",
    "\n",
    "$H_1: X \\sim (\\mu_0, \\sigma^2)$ where $\\mu_0 > 0$"
   ]
  },
  {
   "cell_type": "markdown",
   "metadata": {},
   "source": [
    "$t = \\frac{(\\overline{X} - \\mu_0)\\sqrt{n-1}}{\\sqrt{ \\hat{\\sigma^2_X}}} \\sim S(n-1)$"
   ]
  },
  {
   "cell_type": "markdown",
   "metadata": {},
   "source": [
    "Critical area for the right-tail case $\\overline{G} = [t_{cr}, +\\infty]$"
   ]
  },
  {
   "cell_type": "markdown",
   "metadata": {},
   "source": [
    "Critical value for the right-tail case (via the table for a central confidence level) $\\left[ S(t_{cr}, n-1) = S(t_{1-2\\alpha}, 9) = 0.9 \\right] \\Rightarrow t_{cr} = t_{0.9} = 1.83$"
   ]
  },
  {
   "cell_type": "code",
   "execution_count": 11,
   "metadata": {},
   "outputs": [],
   "source": [
    "df = pd.DataFrame({'diff': [2.4, 1, 0.7, 0, 1.1, 1.6, -0.4, 1.1, 0.1, 0.7]})"
   ]
  },
  {
   "cell_type": "code",
   "execution_count": 12,
   "metadata": {},
   "outputs": [
    {
     "data": {
      "text/plain": [
       "3.21"
      ]
     },
     "execution_count": 12,
     "metadata": {},
     "output_type": "execute_result"
    }
   ],
   "source": [
    "round(df['diff'].mean() * (9) ** (1/2) / (df['diff'].var(ddof=0)) ** (1/2), 2)"
   ]
  },
  {
   "cell_type": "markdown",
   "metadata": {},
   "source": [
    "$t = \\frac{(0.83 - 0)\\sqrt{10-1}}{\\sqrt{0.6}} = 3.21$"
   ]
  },
  {
   "cell_type": "markdown",
   "metadata": {},
   "source": [
    "$t \\in \\overline{G}$ thereby reject $H_0$"
   ]
  },
  {
   "cell_type": "markdown",
   "metadata": {},
   "source": [
    "Answer: using a special seeder gives an statistically significant increase in yield (harvest)."
   ]
  },
  {
   "cell_type": "markdown",
   "metadata": {},
   "source": [
    "**Task 6. The researcher has two tools that measures an important scientific event:**\n",
    "\n",
    "**Tool X:** $0.8; 1.9; 3.0; 3.5; 3.8; 2.5; 1.7; 0.9; 1.0; 2.3; 3.3; 3.4$\n",
    "\n",
    "**Tool Y:** $1.4; 2.1; 3.1; 3.6; 2.7; 1.7; 1.1; 0.2; 1.6; 2.8; 4.0; 4.7$\n",
    "\n",
    "**Considering significance level $0.05$, test that the $\\mu_X = \\mu_Y$**"
   ]
  },
  {
   "cell_type": "markdown",
   "metadata": {},
   "source": [
    "$\\alpha = 0.05$"
   ]
  },
  {
   "cell_type": "markdown",
   "metadata": {},
   "source": [
    "$H_0: \\mu_X = \\mu_Y$\n",
    "\n",
    "$H_1: \\mu_X \\neq \\mu_Y$"
   ]
  },
  {
   "cell_type": "markdown",
   "metadata": {},
   "source": [
    "$$t = \\frac{\\hat\\mu_X - \\hat\\mu_Y}{\\sqrt{\\frac{\\left(\\sum (x_i - \\mu_X)^2 + \\sum (y_i - \\mu_Y)^2\\right)(n_1 + n_2)}{n_1 n_2 (n_1 + n_2 - 2) }}} \\sim S(n_1 + n_2 - 2)$$"
   ]
  },
  {
   "cell_type": "markdown",
   "metadata": {},
   "source": [
    "$n_1 = n_2 = 12$"
   ]
  },
  {
   "cell_type": "markdown",
   "metadata": {},
   "source": [
    "Critical area $\\overline{G} = [-\\infty, -t_{cr}] \\cup [t_{cr}, +\\infty]$"
   ]
  },
  {
   "cell_type": "markdown",
   "metadata": {},
   "source": [
    "Critical values (via the table for a central confidence level) $[S(t_{cr}, n_1 + n_2 - 2) = S(t_{1-\\alpha}, 22) = 0.95] \\Rightarrow t_{cr} = t_{0.95} = 2.07$"
   ]
  },
  {
   "cell_type": "code",
   "execution_count": 13,
   "metadata": {},
   "outputs": [],
   "source": [
    "import pandas as pd"
   ]
  },
  {
   "cell_type": "code",
   "execution_count": 14,
   "metadata": {},
   "outputs": [],
   "source": [
    "df = pd.DataFrame({\n",
    "    'toolx': [0.8, 1.9, 3.0, 3.5, 3.8, 2.5, 1.7, 0.9, 1.0, 2.3, 3.3, 3.4],\n",
    "    'tooly': [1.4, 2.1, 3.1, 3.6, 2.7, 1.7, 1.1, 0.2, 1.6, 2.8, 4.0, 4.7]})"
   ]
  },
  {
   "cell_type": "code",
   "execution_count": 15,
   "metadata": {},
   "outputs": [
    {
     "data": {
      "text/plain": [
       "2.34"
      ]
     },
     "execution_count": 15,
     "metadata": {},
     "output_type": "execute_result"
    }
   ],
   "source": [
    "meanx = df['toolx'].mean()\n",
    "round(meanx, 2)"
   ]
  },
  {
   "cell_type": "code",
   "execution_count": 16,
   "metadata": {},
   "outputs": [
    {
     "data": {
      "text/plain": [
       "2.42"
      ]
     },
     "execution_count": 16,
     "metadata": {},
     "output_type": "execute_result"
    }
   ],
   "source": [
    "meany = df['tooly'].mean()\n",
    "round(meany, 2)"
   ]
  },
  {
   "cell_type": "code",
   "execution_count": 17,
   "metadata": {},
   "outputs": [
    {
     "data": {
      "text/plain": [
       "12.83"
      ]
     },
     "execution_count": 17,
     "metadata": {},
     "output_type": "execute_result"
    }
   ],
   "source": [
    "sumx = 0\n",
    "for i in list(df['toolx']):\n",
    "    sumx += (i - meanx) ** 2\n",
    "round(sumx, 2)"
   ]
  },
  {
   "cell_type": "code",
   "execution_count": 18,
   "metadata": {},
   "outputs": [
    {
     "data": {
      "text/plain": [
       "18.78"
      ]
     },
     "execution_count": 18,
     "metadata": {},
     "output_type": "execute_result"
    }
   ],
   "source": [
    "sumy = 0\n",
    "for i in list(df['tooly']):\n",
    "    sumy += (i - meany) ** 2\n",
    "round(sumy, 2)"
   ]
  },
  {
   "cell_type": "code",
   "execution_count": 19,
   "metadata": {},
   "outputs": [
    {
     "data": {
      "text/plain": [
       "-0.17"
      ]
     },
     "execution_count": 19,
     "metadata": {},
     "output_type": "execute_result"
    }
   ],
   "source": [
    "t = (2.34 - 2.42) / (\n",
    "        (12.83 + 18.78)\n",
    "        *\n",
    "        (12 + 12)\n",
    "        /\n",
    "        (12 * 12 * (12 + 12 ))\n",
    "    ) ** (1/2)\n",
    "round(t, 2)"
   ]
  },
  {
   "cell_type": "markdown",
   "metadata": {},
   "source": [
    "$t = \\frac{2.34 - 2.42}{\\sqrt{\\frac{(12.83 + 18.78)(12 + 12)}{12 \\cdot 12 (12 + 12 - 2)}}} = -0.17$"
   ]
  },
  {
   "cell_type": "markdown",
   "metadata": {},
   "source": [
    "$t \\notin \\overline{G}$ thereby accept $H_0$"
   ]
  },
  {
   "cell_type": "markdown",
   "metadata": {},
   "source": [
    "**Task 7. The engineer tests his inventions that measures a voltage**\n",
    "\n",
    "**Invention X:** $1.32; 1.35; 1.32; 1.35; 1.30; 1.30; 1.37; 1.31; 1.39; 1.39$.\n",
    "\n",
    "**Invention Y:** $1.35; 1.31; 1.31; 1.41; 1.39; 1.37; 1.32; 1.34$.\n",
    "\n",
    "**Which one has better precision? Considering significance level $0.05$, test that the $\\sigma^2_X=\\sigma^2_Y$**"
   ]
  },
  {
   "cell_type": "markdown",
   "metadata": {},
   "source": [
    "$\\alpha = 0.05$"
   ]
  },
  {
   "cell_type": "markdown",
   "metadata": {},
   "source": [
    "$H_0: \\sigma^2_X = \\sigma^2_Y$\n",
    "\n",
    "Check that the invention X and the invention Y has equal precision\n",
    "\n",
    "$H_1: \\sigma^2_X \\neq \\sigma^2_Y$"
   ]
  },
  {
   "cell_type": "markdown",
   "metadata": {},
   "source": [
    "$F = \\frac{\\hat{s_X^2}}{\\hat{s_Y^2}} \\sim F(k_1, k_2)$ where $k_1 = n_1-1$ and $k_2 = n_2-1$ and $\\hat{s^2}$ is the unbiased sample variance $\\hat{s^2} = \\frac{1}{n-1}\\sum(x_i - \\hat \\mu)^2$"
   ]
  },
  {
   "cell_type": "markdown",
   "metadata": {},
   "source": [
    "Critical area $\\overline{G} = [-\\infty, F_1] \\cup [F_2, +\\infty]$"
   ]
  },
  {
   "cell_type": "markdown",
   "metadata": {},
   "source": [
    "Critical values $[F(F_1, k_1, k_2) - F(F_2, k_1, k_2) = F(F_{1-\\alpha/2}, 9, 7) - F(F_{\\alpha/2}, 9, 7) = 0.95] \\Rightarrow F_{0.975} = 0.24, F_{0.025} = 4.82$"
   ]
  },
  {
   "cell_type": "code",
   "execution_count": 20,
   "metadata": {},
   "outputs": [],
   "source": [
    "import numpy as np"
   ]
  },
  {
   "cell_type": "code",
   "execution_count": 21,
   "metadata": {},
   "outputs": [],
   "source": [
    "inventionx = np.array([1.32, 1.35, 1.32, 1.35, 1.30, 1.30, 1.37, 1.31, 1.39, 1.39])\n",
    "inventiony = np.array([1.35, 1.31, 1.31, 1.41, 1.39, 1.37, 1.32, 1.34])"
   ]
  },
  {
   "cell_type": "code",
   "execution_count": 22,
   "metadata": {},
   "outputs": [
    {
     "data": {
      "text/plain": [
       "0.9"
      ]
     },
     "execution_count": 22,
     "metadata": {},
     "output_type": "execute_result"
    }
   ],
   "source": [
    "round(inventionx.var() / inventiony.var(), 2)"
   ]
  },
  {
   "cell_type": "markdown",
   "metadata": {},
   "source": [
    "$F = 0.9$"
   ]
  },
  {
   "cell_type": "markdown",
   "metadata": {},
   "source": [
    "$F \\notin \\overline G$ thereby assept $H_0$"
   ]
  },
  {
   "cell_type": "markdown",
   "metadata": {},
   "source": [
    "Answer: the fact that the inventions have the different precision is not statistically significant"
   ]
  }
 ],
 "metadata": {
  "kernelspec": {
   "display_name": "Python 3",
   "language": "python",
   "name": "python3"
  },
  "language_info": {
   "codemirror_mode": {
    "name": "ipython",
    "version": 3
   },
   "file_extension": ".py",
   "mimetype": "text/x-python",
   "name": "python",
   "nbconvert_exporter": "python",
   "pygments_lexer": "ipython3",
   "version": "3.7.1"
  }
 },
 "nbformat": 4,
 "nbformat_minor": 2
}
